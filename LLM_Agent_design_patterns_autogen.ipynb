{
 "cells": [
  {
   "cell_type": "markdown",
   "id": "149d2910-6e52-45ff-9e1a-cf72cc773a1c",
   "metadata": {},
   "source": [
    "# LLM Agent Design Patterns with AutoGen"
   ]
  },
  {
   "cell_type": "markdown",
   "id": "907fb2d1-619e-47c8-9f63-03ceb87a05c1",
   "metadata": {},
   "source": [
    "## Basic Concepts of AutoGen Agents\n",
    "\n",
    "- In AutoGen, An Agent is an entity that can act on behalf of human intent, send messages, receive messages, perform actions, generate replies and interact with other agents.\n",
    "- AutoGen has a built-in agent clas called \"coversable agent\", which unifies different types of agents in the same programming abstraction."
   ]
  },
  {
   "cell_type": "code",
   "execution_count": 1,
   "id": "5820b267-6608-4337-b516-18e7f02511a2",
   "metadata": {},
   "outputs": [],
   "source": [
    "import os\n",
    "from dotenv import load_dotenv, find_dotenv"
   ]
  },
  {
   "cell_type": "code",
   "execution_count": 2,
   "id": "ea516d60",
   "metadata": {},
   "outputs": [],
   "source": [
    "def load_env():\n",
    "    _ = load_dotenv(find_dotenv())"
   ]
  },
  {
   "cell_type": "code",
   "execution_count": 3,
   "id": "2435f45b",
   "metadata": {},
   "outputs": [],
   "source": [
    "def get_openai_api_key():\n",
    "    load_env()\n",
    "    openai_api_key = os.getenv(\"OPENAI_API_KEY\")\n",
    "    return openai_api_key"
   ]
  },
  {
   "cell_type": "code",
   "execution_count": 4,
   "id": "03531b8f-f95d-4213-b85b-d712b63b793c",
   "metadata": {},
   "outputs": [],
   "source": [
    "OPENAI_API_KEY = get_openai_api_key()\n",
    "llm_config = {\"model\": \"gpt-3.5-turbo\"}"
   ]
  },
  {
   "cell_type": "code",
   "execution_count": 5,
   "id": "048d9a3e-ac5d-4e43-a0ae-9cdaaf2e6bc6",
   "metadata": {},
   "outputs": [],
   "source": [
    "from autogen import ConversableAgent\n",
    "\n",
    "agent = ConversableAgent(\n",
    "    name=\"chatbot\", \n",
    "    llm_config=llm_config, \n",
    "    human_input_mode=\"NEVER\"\n",
    ")"
   ]
  },
  {
   "cell_type": "code",
   "execution_count": 6,
   "id": "f7a83544-638c-498b-9414-49648fb78cd2",
   "metadata": {},
   "outputs": [],
   "source": [
    "reply = agent.generate_reply(\n",
    "    messages=[{\"content\": \"Tell me a joke.\", \"role\": \"user\"}]\n",
    ")"
   ]
  },
  {
   "cell_type": "code",
   "execution_count": 7,
   "id": "268f0468",
   "metadata": {},
   "outputs": [
    {
     "name": "stdout",
     "output_type": "stream",
     "text": [
      "Sure, here's a joke for you:\n",
      "\n",
      "Why couldn't the bicycle stand up by itself?\n",
      "\n",
      "Because it was two tired!\n"
     ]
    }
   ],
   "source": [
    "print(reply)"
   ]
  },
  {
   "cell_type": "code",
   "execution_count": 8,
   "id": "06f9461d",
   "metadata": {},
   "outputs": [],
   "source": [
    "# Create a Conversation\n",
    "cathy = ConversableAgent(\n",
    "    name=\"cathy\", \n",
    "    system_message=\"Your name is Cathy and you are a stand-up comedian.\", \n",
    "    llm_config=llm_config, \n",
    "    human_input_mode=\"NEVER\"\n",
    ")\n",
    "\n",
    "joe = ConversableAgent(\n",
    "    name=\"joe\", \n",
    "    system_message=\"Your name is Joe and you are a stand-up comedian. \"\n",
    "    \"Start the next joke from the punchline of the previous joke.\", \n",
    "    llm_config=llm_config, \n",
    "    human_input_mode=\"NEVER\"\n",
    ")"
   ]
  },
  {
   "cell_type": "code",
   "execution_count": 9,
   "id": "ebf08024",
   "metadata": {},
   "outputs": [
    {
     "name": "stdout",
     "output_type": "stream",
     "text": [
      "\u001b[33mjoe\u001b[0m (to cathy):\n",
      "\n",
      "I'm Joe. Cathy, let's keep the jokes rolling.\n",
      "\n",
      "--------------------------------------------------------------------------------\n",
      "\u001b[33mcathy\u001b[0m (to joe):\n",
      "\n",
      "Hey, Joe! So glad you're ready to laugh. So, I recently tried to organize a hide and seek competition, but it turns out it was a complete disaster. It's like everyone just disappeared!\n",
      "\n",
      "--------------------------------------------------------------------------------\n",
      "\u001b[33mjoe\u001b[0m (to cathy):\n",
      "\n",
      "Sounds like my social life!\n",
      "\n",
      "--------------------------------------------------------------------------------\n",
      "\u001b[33mcathy\u001b[0m (to joe):\n",
      "\n",
      "Well, Joe, at least you know you'd win first place in a hide and seek competition!\n",
      "\n",
      "--------------------------------------------------------------------------------\n"
     ]
    }
   ],
   "source": [
    "chat_result = joe.initiate_chat(\n",
    "    recipient=cathy, \n",
    "    message=\"I'm Joe. Cathy, let's keep the jokes rolling.\", \n",
    "    max_turns=2\n",
    ")"
   ]
  },
  {
   "cell_type": "code",
   "execution_count": 10,
   "id": "0aab71ee",
   "metadata": {},
   "outputs": [
    {
     "name": "stdout",
     "output_type": "stream",
     "text": [
      "[{'content': \"I'm Joe. Cathy, let's keep the jokes rolling.\",\n",
      "  'role': 'assistant'},\n",
      " {'content': \"Hey, Joe! So glad you're ready to laugh. So, I recently tried to \"\n",
      "             'organize a hide and seek competition, but it turns out it was a '\n",
      "             \"complete disaster. It's like everyone just disappeared!\",\n",
      "  'role': 'user'},\n",
      " {'content': 'Sounds like my social life!', 'role': 'assistant'},\n",
      " {'content': \"Well, Joe, at least you know you'd win first place in a hide and \"\n",
      "             'seek competition!',\n",
      "  'role': 'user'}]\n"
     ]
    }
   ],
   "source": [
    "import pprint\n",
    "pprint.pprint(chat_result.chat_history)"
   ]
  },
  {
   "cell_type": "code",
   "execution_count": 11,
   "id": "c103839b",
   "metadata": {},
   "outputs": [
    {
     "name": "stdout",
     "output_type": "stream",
     "text": [
      "{'usage_excluding_cached_inference': {'gpt-3.5-turbo-0125': {'completion_tokens': 68,\n",
      "                                                             'cost': 0.00021350000000000004,\n",
      "                                                             'prompt_tokens': 223,\n",
      "                                                             'total_tokens': 291},\n",
      "                                      'total_cost': 0.00021350000000000004},\n",
      " 'usage_including_cached_inference': {'gpt-3.5-turbo-0125': {'completion_tokens': 68,\n",
      "                                                             'cost': 0.00021350000000000004,\n",
      "                                                             'prompt_tokens': 223,\n",
      "                                                             'total_tokens': 291},\n",
      "                                      'total_cost': 0.00021350000000000004}}\n"
     ]
    }
   ],
   "source": [
    "pprint.pprint(chat_result.cost)"
   ]
  },
  {
   "cell_type": "code",
   "execution_count": 12,
   "id": "4332b274",
   "metadata": {},
   "outputs": [
    {
     "name": "stdout",
     "output_type": "stream",
     "text": [
      "\u001b[33mjoe\u001b[0m (to cathy):\n",
      "\n",
      "I'm joe. Cathy, let's keep the jokes rolling.\n",
      "\n",
      "--------------------------------------------------------------------------------\n",
      "\u001b[33mcathy\u001b[0m (to joe):\n",
      "\n",
      "Hey Joe, glad to see you're on board! So, I recently joined a gym because I wanted to get in shape. I thought about doing yoga, but then I realized that getting into child's pose and crying is something I can easily do at home for free.\n",
      "\n",
      "--------------------------------------------------------------------------------\n",
      "\u001b[33mjoe\u001b[0m (to cathy):\n",
      "\n",
      "It's true, crying in child's pose is a great stress-reliever. And you know what's also a great workout? Trying to put on skinny jeans after quarantine.\n",
      "\n",
      "--------------------------------------------------------------------------------\n",
      "\u001b[33mcathy\u001b[0m (to joe):\n",
      "\n",
      "Absolutely, Joe! I swear those skinny jeans must have shrunk in the dryer during quarantine, right? It's like a strategy game trying to fit into them again. But hey, at least they're high-waisted, so they cover up that \"pandemic paunch\" pretty well!\n",
      "\n",
      "--------------------------------------------------------------------------------\n"
     ]
    }
   ],
   "source": [
    "# Summarize conversation chat\n",
    "chat_result = joe.initiate_chat(\n",
    "    cathy, \n",
    "    message=\"I'm joe. Cathy, let's keep the jokes rolling.\", \n",
    "    max_turns=2, \n",
    "    summary_method=\"reflection_with_llm\", \n",
    "    summary_prompt=\"summarize_the_conversation\"\n",
    ")"
   ]
  },
  {
   "cell_type": "code",
   "execution_count": 13,
   "id": "97afa3c3",
   "metadata": {},
   "outputs": [
    {
     "name": "stdout",
     "output_type": "stream",
     "text": [
      "('Cathy and Joe joked about the challenges of staying in shape during '\n",
      " \"quarantine, including crying in child's pose and struggling to fit into \"\n",
      " 'skinny jeans.')\n"
     ]
    }
   ],
   "source": [
    "pprint.pprint(chat_result.summary)"
   ]
  },
  {
   "cell_type": "code",
   "execution_count": null,
   "id": "968bdf4d",
   "metadata": {},
   "outputs": [],
   "source": [
    "# Terminate chat through specific phrase\n"
   ]
  }
 ],
 "metadata": {
  "kernelspec": {
   "display_name": "Python 3",
   "language": "python",
   "name": "python3"
  },
  "language_info": {
   "codemirror_mode": {
    "name": "ipython",
    "version": 3
   },
   "file_extension": ".py",
   "mimetype": "text/x-python",
   "name": "python",
   "nbconvert_exporter": "python",
   "pygments_lexer": "ipython3",
   "version": "3.10.10"
  }
 },
 "nbformat": 4,
 "nbformat_minor": 5
}
