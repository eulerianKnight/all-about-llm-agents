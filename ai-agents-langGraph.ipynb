{
 "cells": [
  {
   "cell_type": "markdown",
   "id": "a8aa6635-eb5f-4b71-adfd-639aa2279912",
   "metadata": {},
   "source": [
    "# AI Agents in LangGraph\n",
    "\n",
    "**This Notebook is replication of demo shown in https://www.deeplearning.ai/short-courses/ai-agents-in-langgraph/**"
   ]
  },
  {
   "cell_type": "markdown",
   "id": "44e5f6fe-5e85-4201-a10b-a9c86af2dac7",
   "metadata": {},
   "source": [
    "## Build an Agent From Scratch\n",
    "\n",
    "- Paper Link: https://arxiv.org/abs/2210.03629\n",
    "- ReAct: Synergizing Reasoning and Acting in Language Models"
   ]
  },
  {
   "cell_type": "code",
   "execution_count": 1,
   "id": "89bd6622-9f0f-4df0-85f2-3711166e3770",
   "metadata": {},
   "outputs": [],
   "source": [
    "import os\n",
    "from getpass import getpass\n",
    "import openai\n",
    "import re\n",
    "import httpx"
   ]
  },
  {
   "cell_type": "code",
   "execution_count": 2,
   "id": "c2dbe234-316e-45ee-a1e4-87f6c48fd001",
   "metadata": {},
   "outputs": [
    {
     "name": "stdout",
     "output_type": "stream",
     "text": [
      " ········\n"
     ]
    }
   ],
   "source": [
    "os.environ['OPENAI_API_KEY'] = getpass()"
   ]
  },
  {
   "cell_type": "code",
   "execution_count": 3,
   "id": "ec917205-f767-45c3-93bd-83c48278f4d5",
   "metadata": {},
   "outputs": [],
   "source": [
    "# Intantiate LLM\n",
    "from openai import OpenAI\n",
    "\n",
    "client = OpenAI()"
   ]
  },
  {
   "cell_type": "code",
   "execution_count": 4,
   "id": "d43196cc-a87a-440a-b7a5-1975f9baafe2",
   "metadata": {},
   "outputs": [],
   "source": [
    "# Test\n",
    "chat_completion = client.chat.completions.create(\n",
    "    model=\"gpt-3.5-turbo\", \n",
    "    messages=[{\"role\": \"user\", \"content\": \"Hello World\"}]\n",
    ")"
   ]
  },
  {
   "cell_type": "code",
   "execution_count": 5,
   "id": "2ec606ee-4b2d-4be4-a6ee-e575541bb11c",
   "metadata": {},
   "outputs": [
    {
     "data": {
      "text/plain": [
       "'Hello! How are you today?'"
      ]
     },
     "execution_count": 5,
     "metadata": {},
     "output_type": "execute_result"
    }
   ],
   "source": [
    "chat_completion.choices[0].message.content"
   ]
  },
  {
   "cell_type": "code",
   "execution_count": 6,
   "id": "16f908bb-ef64-4fc0-9ae5-5312cf7f2a73",
   "metadata": {},
   "outputs": [],
   "source": [
    "class Agent:\n",
    "    def __init__(self, system=\"\"): # Parameterized System message from User\n",
    "        self.system = system\n",
    "        self.messages = []\n",
    "        if self.system:\n",
    "            self.messages.append({\"role\": \"system\", \"content\": system})\n",
    "    def __call__(self, message):\n",
    "        self.messages.append({\"role\": \"user\", \"content\": message})\n",
    "        result = self.execute()\n",
    "        self.messages.append({\"role\": \"assistant\", \"content\": result})\n",
    "        return result\n",
    "    def execute(self):\n",
    "        completion = client.chat.completions.create(\n",
    "            model=\"gpt-4-0125-preview\", \n",
    "            temperature=0, \n",
    "            messages=self.messages\n",
    "        )\n",
    "        return completion.choices[0].message.content"
   ]
  },
  {
   "cell_type": "code",
   "execution_count": 7,
   "id": "03607bc1-eb0c-4663-9f4e-72dab68524ce",
   "metadata": {},
   "outputs": [],
   "source": [
    "# Prompt for ReAct\n",
    "prompt = \"\"\"\n",
    "You run in a loop of Thought, Action, PAUSE, Observation.\n",
    "At the end of the loop you output an Answer\n",
    "Use Thought to describe your thoughts about the question you have been asked.\n",
    "Use Action to run one of the actions available to you - then return PAUSE.\n",
    "Observation will be the result of running those actions.\n",
    "\n",
    "Your available actions are:\n",
    "\n",
    "calculate:\n",
    "e.g. calculate: 4 * 7 / 3\n",
    "Runs a calculation and returns the number - uses Python so be sure to use floating point syntax if necessary\n",
    "\n",
    "average_dog_weight:\n",
    "e.g. average_dog_weight: Collie\n",
    "returns average weight of a dog when given the breed\n",
    "\n",
    "Example session:\n",
    "\n",
    "Question: How much does a Bulldog weigh?\n",
    "Thought: I should look the dogs weight using average_dog_weight\n",
    "Action: average_dog_weight: Bulldog\n",
    "PAUSE\n",
    "\n",
    "You will be called again with this:\n",
    "\n",
    "Observation: A Bulldog weights 51 lbs\n",
    "\n",
    "You then output:\n",
    "\n",
    "Answer: A bulldog weights 51 lbs\n",
    "\"\"\".strip()"
   ]
  },
  {
   "cell_type": "code",
   "execution_count": 8,
   "id": "df9bc667-fcfc-4f09-8b54-37c5073c1657",
   "metadata": {},
   "outputs": [],
   "source": [
    "# Functions\n",
    "def calculate(what):\n",
    "    return eval(what)\n",
    "\n",
    "def average_dog_weight(name):\n",
    "    if name in \"Scottish Terrier\": \n",
    "        return(\"Scottish Terriers average 20 lbs\")\n",
    "    elif name in \"Border Collie\":\n",
    "        return(\"a Border Collies average weight is 37 lbs\")\n",
    "    elif name in \"Toy Poodle\":\n",
    "        return(\"a toy poodles average weight is 7 lbs\")\n",
    "    else:\n",
    "        return(\"An average dog weights 50 lbs\")\n",
    "\n",
    "known_actions = {\n",
    "    \"calculate\": calculate,\n",
    "    \"average_dog_weight\": average_dog_weight\n",
    "}"
   ]
  },
  {
   "cell_type": "code",
   "execution_count": 9,
   "id": "b48c730d-71c6-40b8-bb70-987a5dda049a",
   "metadata": {},
   "outputs": [],
   "source": [
    "abot = Agent(prompt)"
   ]
  },
  {
   "cell_type": "code",
   "execution_count": 10,
   "id": "8e4bb45f-7555-42ee-ba07-0c6a974b3769",
   "metadata": {},
   "outputs": [
    {
     "name": "stdout",
     "output_type": "stream",
     "text": [
      "Thought: I should look up the dog's weight using average_dog_weight for a Toy Poodle.\n",
      "Action: average_dog_weight: Toy Poodle\n",
      "PAUSE\n"
     ]
    }
   ],
   "source": [
    "result = abot(\"How much does a toy poodle weigh?\")\n",
    "print(result)"
   ]
  },
  {
   "cell_type": "code",
   "execution_count": 11,
   "id": "9fd852c9-32b6-48e1-8f8e-22a0551c92bc",
   "metadata": {},
   "outputs": [
    {
     "data": {
      "text/plain": [
       "'a toy poodles average weight is 7 lbs'"
      ]
     },
     "execution_count": 11,
     "metadata": {},
     "output_type": "execute_result"
    }
   ],
   "source": [
    "result = average_dog_weight(\"Toy Poodle\")\n",
    "result"
   ]
  },
  {
   "cell_type": "code",
   "execution_count": 12,
   "id": "4525b86f-bcef-4081-ae64-c2ffe6e597b3",
   "metadata": {},
   "outputs": [
    {
     "data": {
      "text/plain": [
       "\"Answer: A Toy Poodle's average weight is 7 lbs.\""
      ]
     },
     "execution_count": 12,
     "metadata": {},
     "output_type": "execute_result"
    }
   ],
   "source": [
    "next_prompt = f\"Observation: {result}\"\n",
    "abot(next_prompt)"
   ]
  },
  {
   "cell_type": "code",
   "execution_count": 13,
   "id": "5001e92d-7f8b-41c1-be08-831171fe8b25",
   "metadata": {},
   "outputs": [
    {
     "data": {
      "text/plain": [
       "[{'role': 'system',\n",
       "  'content': 'You run in a loop of Thought, Action, PAUSE, Observation.\\nAt the end of the loop you output an Answer\\nUse Thought to describe your thoughts about the question you have been asked.\\nUse Action to run one of the actions available to you - then return PAUSE.\\nObservation will be the result of running those actions.\\n\\nYour available actions are:\\n\\ncalculate:\\ne.g. calculate: 4 * 7 / 3\\nRuns a calculation and returns the number - uses Python so be sure to use floating point syntax if necessary\\n\\naverage_dog_weight:\\ne.g. average_dog_weight: Collie\\nreturns average weight of a dog when given the breed\\n\\nExample session:\\n\\nQuestion: How much does a Bulldog weigh?\\nThought: I should look the dogs weight using average_dog_weight\\nAction: average_dog_weight: Bulldog\\nPAUSE\\n\\nYou will be called again with this:\\n\\nObservation: A Bulldog weights 51 lbs\\n\\nYou then output:\\n\\nAnswer: A bulldog weights 51 lbs'},\n",
       " {'role': 'user', 'content': 'How much does a toy poodle weigh?'},\n",
       " {'role': 'assistant',\n",
       "  'content': \"Thought: I should look up the dog's weight using average_dog_weight for a Toy Poodle.\\nAction: average_dog_weight: Toy Poodle\\nPAUSE\"},\n",
       " {'role': 'user',\n",
       "  'content': 'Observation: a toy poodles average weight is 7 lbs'},\n",
       " {'role': 'assistant',\n",
       "  'content': \"Answer: A Toy Poodle's average weight is 7 lbs.\"}]"
      ]
     },
     "execution_count": 13,
     "metadata": {},
     "output_type": "execute_result"
    }
   ],
   "source": [
    "abot.messages"
   ]
  },
  {
   "cell_type": "code",
   "execution_count": 14,
   "id": "5495d10a-fd4e-41b7-a263-8b298738a7f0",
   "metadata": {},
   "outputs": [
    {
     "data": {
      "text/plain": [
       "\"Thought: To find the combined weight of a Border Collie and a Scottish Terrier, I need to find the average weight of each breed and then add those weights together. I'll start by finding the average weight of a Border Collie.\\nAction: average_dog_weight: Border Collie\\nPAUSE\""
      ]
     },
     "execution_count": 14,
     "metadata": {},
     "output_type": "execute_result"
    }
   ],
   "source": [
    "# Different example\n",
    "abot = Agent(prompt)\n",
    "question = \"\"\"I have 2 dogs, a border collie and a scottish terrier. \\\n",
    "What is their combined weight\"\"\"\n",
    "abot(question)"
   ]
  },
  {
   "cell_type": "code",
   "execution_count": 15,
   "id": "eec96c77-3a24-4eb4-b0fe-6e2ec8d49e44",
   "metadata": {},
   "outputs": [
    {
     "name": "stdout",
     "output_type": "stream",
     "text": [
      "Observation: a Border Collies average weight is 37 lbs\n"
     ]
    }
   ],
   "source": [
    "next_prompt = f\"Observation: {average_dog_weight('Border Collie')}\"\n",
    "print(next_prompt)"
   ]
  },
  {
   "cell_type": "code",
   "execution_count": 16,
   "id": "8519abd0-b82c-40bc-9e7e-1b04e6caa8b9",
   "metadata": {},
   "outputs": [
    {
     "data": {
      "text/plain": [
       "'Thought: Now that I know the average weight of a Border Collie is 37 lbs, I need to find the average weight of a Scottish Terrier to calculate the combined weight.\\nAction: average_dog_weight: Scottish Terrier\\nPAUSE'"
      ]
     },
     "execution_count": 16,
     "metadata": {},
     "output_type": "execute_result"
    }
   ],
   "source": [
    "abot(next_prompt)"
   ]
  },
  {
   "cell_type": "code",
   "execution_count": 17,
   "id": "6c1099d4-5c84-420c-9030-d08905aabf93",
   "metadata": {},
   "outputs": [
    {
     "name": "stdout",
     "output_type": "stream",
     "text": [
      "Observation: Scottish Terriers average 20 lbs\n"
     ]
    }
   ],
   "source": [
    "next_prompt = f\"Observation: {average_dog_weight('Scottish Terrier')}\"\n",
    "print(next_prompt)"
   ]
  },
  {
   "cell_type": "code",
   "execution_count": 18,
   "id": "45ca8820-d8e4-43ea-8da4-28f1de1818ad",
   "metadata": {},
   "outputs": [
    {
     "data": {
      "text/plain": [
       "'Thought: With the average weight of a Border Collie being 37 lbs and a Scottish Terrier being 20 lbs, I can now calculate their combined weight by adding these two numbers together.\\nAction: calculate: 37 + 20\\nPAUSE'"
      ]
     },
     "execution_count": 18,
     "metadata": {},
     "output_type": "execute_result"
    }
   ],
   "source": [
    "abot(next_prompt)"
   ]
  },
  {
   "cell_type": "code",
   "execution_count": 19,
   "id": "a5b8f4c8-805c-4f8b-b179-f724e38c18f3",
   "metadata": {},
   "outputs": [
    {
     "name": "stdout",
     "output_type": "stream",
     "text": [
      "Observation: 57\n"
     ]
    }
   ],
   "source": [
    "next_prompt = f\"Observation: {eval('37 + 20')}\"\n",
    "print(next_prompt)"
   ]
  },
  {
   "cell_type": "code",
   "execution_count": 20,
   "id": "fd8a8d5d-0c5c-403c-bad5-b2115c47e994",
   "metadata": {},
   "outputs": [
    {
     "data": {
      "text/plain": [
       "'Answer: The combined weight of a Border Collie and a Scottish Terrier is 57 lbs.'"
      ]
     },
     "execution_count": 20,
     "metadata": {},
     "output_type": "execute_result"
    }
   ],
   "source": [
    "abot(next_prompt)"
   ]
  },
  {
   "cell_type": "markdown",
   "id": "d8b43300-ff51-4d5b-af4e-8c3709f33a04",
   "metadata": {},
   "source": [
    "### Automate the Agent"
   ]
  },
  {
   "cell_type": "code",
   "execution_count": 21,
   "id": "1e9971ab-e1d4-4ef5-8b62-c36a1e176864",
   "metadata": {},
   "outputs": [],
   "source": [
    "# Regex to determine if an action is required or is it the final answer.\n",
    "action_re = re.compile('^Action: (\\w+): (.*)$')"
   ]
  },
  {
   "cell_type": "code",
   "execution_count": 22,
   "id": "9c6dbde1-b4cf-4c48-8421-caab1d0e05f4",
   "metadata": {},
   "outputs": [],
   "source": [
    "def query(question, max_turns=5):\n",
    "    i = 0 # Counter to keep track of iteration\n",
    "    bot = Agent(prompt) # Instantiate the Agent\n",
    "    next_prompt = question # Keep track of what to pass to the agent\n",
    "    # Start loop\n",
    "    while i < max_turns:\n",
    "        i += 1 # Increment the counter\n",
    "        result = bot(next_prompt) # Get result from Agent\n",
    "        print(result)\n",
    "        # Parse response from Agent\n",
    "        actions = [\n",
    "            action_re.match(a)\n",
    "            for a in result.split('\\n')\n",
    "            if action_re.match(a)\n",
    "        ]\n",
    "        if actions:\n",
    "            # There is an action to run\n",
    "            action, action_input = actions[0].groups()\n",
    "            if action not in known_actions:\n",
    "                raise Exception(f\"Unknown action: {action}: {action_input}\")\n",
    "            print(\" -- running {} {}\".format(action, action_input))\n",
    "            observation = known_actions[action](action_input)\n",
    "            print(\"Observation:\", observation)\n",
    "            next_prompt = \"Observation: {}\".format(observation)\n",
    "        else:\n",
    "            return"
   ]
  },
  {
   "cell_type": "code",
   "execution_count": 23,
   "id": "42f68b74-7c79-43b9-b12c-78afdd7b8af8",
   "metadata": {},
   "outputs": [
    {
     "name": "stdout",
     "output_type": "stream",
     "text": [
      "Thought: To find the combined weight of a Border Collie and a Scottish Terrier, I need to find the average weight of each breed and then add those weights together.\n",
      "Action: average_dog_weight: Border Collie\n",
      "PAUSE\n",
      " -- running average_dog_weight Border Collie\n",
      "Observation: a Border Collies average weight is 37 lbs\n",
      "Action: average_dog_weight: Scottish Terrier\n",
      "PAUSE\n",
      " -- running average_dog_weight Scottish Terrier\n",
      "Observation: Scottish Terriers average 20 lbs\n",
      "Thought: Now that I have the average weights of both a Border Collie and a Scottish Terrier, I can calculate their combined weight by adding the two weights together.\n",
      "Action: calculate: 37 + 20\n",
      "PAUSE\n",
      " -- running calculate 37 + 20\n",
      "Observation: 57\n",
      "Answer: The combined weight of a Border Collie and a Scottish Terrier is 57 lbs.\n"
     ]
    }
   ],
   "source": [
    "question = \"\"\"I have two dogs, a border collie and a scottish terrier. \\\n",
    "What is their combined weight\"\"\"\n",
    "query(question)"
   ]
  },
  {
   "cell_type": "markdown",
   "id": "95dfb21f-bdea-438e-8831-0fa16a553282",
   "metadata": {},
   "source": [
    "## LangGraph Components\n",
    "\n",
    "- LangGraph is an extension of LangChain that supports graphs.\n",
    "- Single and Multi-agent flows are described and represented as graphs.\n",
    "- Allows for extremely controlled \"flows\".\n",
    "- Built-in persistence allows for human-in-the-loop workflows.\n",
    "- Cyclic Graph\n",
    "    - Nodes: Agents or Functions\n",
    "    - Edges: Connect Nodes\n",
    "    - Conditional Edges: Decisions\n",
    "- Data/State\n",
    "    - Agent State is accessible to all parts of the graph.\n",
    "    - It is local to the graph.\n",
    "    - Can be stored in a persistence layer.\n",
    "- Persistence\n",
    "- Human-in-the-loop"
   ]
  },
  {
   "cell_type": "code",
   "execution_count": 24,
   "id": "aca5d0f0-707a-4028-ba62-efada51601ad",
   "metadata": {},
   "outputs": [
    {
     "name": "stdout",
     "output_type": "stream",
     "text": [
      " ········\n"
     ]
    }
   ],
   "source": [
    "import os\n",
    "\n",
    "os.environ['TAVILY_API_KEY'] = getpass()"
   ]
  },
  {
   "cell_type": "code",
   "execution_count": 61,
   "id": "ee79cb14-87ba-45c7-b964-5b1665dd081f",
   "metadata": {},
   "outputs": [],
   "source": [
    "from langgraph.graph import StateGraph, END\n",
    "from typing import TypedDict, Annotated, List\n",
    "import operator\n",
    "from langchain_core.messages import AnyMessage, SystemMessage, HumanMessage, ToolMessage\n",
    "from langchain_openai import ChatOpenAI\n",
    "from langchain_community.tools.tavily_search import TavilySearchResults"
   ]
  },
  {
   "cell_type": "code",
   "execution_count": 26,
   "id": "72da2380-faf5-4e8b-8295-2c7e6b2a2ff0",
   "metadata": {},
   "outputs": [
    {
     "name": "stdout",
     "output_type": "stream",
     "text": [
      "<class 'langchain_community.tools.tavily_search.tool.TavilySearchResults'>\n",
      "tavily_search_results_json\n"
     ]
    }
   ],
   "source": [
    "tavily_tool = TavilySearchResults(max_results=4)\n",
    "print(type(tavily_tool))\n",
    "print(tavily_tool.name)"
   ]
  },
  {
   "cell_type": "code",
   "execution_count": 27,
   "id": "8b49208e-6470-41ea-8ca7-d4037711d324",
   "metadata": {},
   "outputs": [],
   "source": [
    "class AgentState(TypedDict):\n",
    "    messages: Annotated[list[AnyMessage], operator.add]"
   ]
  },
  {
   "cell_type": "code",
   "execution_count": 28,
   "id": "7cdc5ed4-8cd1-41bc-93fc-3c5925d92eb8",
   "metadata": {},
   "outputs": [],
   "source": [
    "class Agent:\n",
    "    def __init__(self, model, tools, system=\"\"):\n",
    "        self.system = system\n",
    "        graph = StateGraph(AgentState)\n",
    "        graph.add_node(\"llm\", self.call_openai)\n",
    "        graph.add_node(\"action\", self.take_action)\n",
    "        graph.add_conditional_edges(\n",
    "            \"llm\", \n",
    "            self.exists_action,\n",
    "            {True: \"action\", False: END}\n",
    "        )\n",
    "        graph.add_edge(\"action\", \"llm\")\n",
    "        graph.set_entry_point(\"llm\")\n",
    "        self.graph = graph.compile()\n",
    "        self.tools = {t.name: t for t in tools}\n",
    "        self.model = model.bind_tools(tools)\n",
    "\n",
    "    def exists_action(self, state: AgentState):\n",
    "        result = state['messages'][-1]\n",
    "        return len(result.tool_calls) > 0\n",
    "\n",
    "    def call_openai(self, state: AgentState):\n",
    "        messages = state['messages']\n",
    "        if self.system:\n",
    "            messages = [SystemMessage(content=self.system)] + messages\n",
    "        message = self.model.invoke(messages)\n",
    "        return {'messages': [message]}\n",
    "\n",
    "    def take_action(self, state: AgentState):\n",
    "        tool_calls = state['messages'][-1].tool_calls\n",
    "        results = []\n",
    "        for t in tool_calls:\n",
    "            print(f\"Calling: {t}\")\n",
    "            if not t['name'] in self.tools:\n",
    "                print(\"\\n ...bad tool name....\")\n",
    "                result = \"bad tool name, retry\"\n",
    "            else:\n",
    "                result = self.tools[t['name']].invoke(t['args'])\n",
    "            results.append(ToolMessage(tool_call_id=t['id'], name=t['name'], content=str(result)))\n",
    "        print(\"Back to the model!\")\n",
    "        return {'messages': results}"
   ]
  },
  {
   "cell_type": "code",
   "execution_count": 29,
   "id": "34fcf901-2e90-438a-a8ca-7bb655a75f07",
   "metadata": {},
   "outputs": [],
   "source": [
    "prompt = \"\"\"You are a smart research assistant. Use the search engine to look up information. \\\n",
    "You are allowed to make multiple calls (either together or in sequence). \\\n",
    "Only look up information when you are sure of what you want. \\\n",
    "If you need to look up some information before asking a follow up question, you are allowed to do that!\n",
    "\"\"\"\n",
    "\n",
    "model = ChatOpenAI(model=\"gpt-3.5-turbo\")\n",
    "abot = Agent(model, [tavily_tool], system=prompt)"
   ]
  },
  {
   "cell_type": "code",
   "execution_count": 30,
   "id": "0d5f2b15-9355-494f-a89d-a79baec1547f",
   "metadata": {},
   "outputs": [
    {
     "name": "stdout",
     "output_type": "stream",
     "text": [
      "Calling: {'name': 'tavily_search_results_json', 'args': {'query': 'weather in Bengaluru, India'}, 'id': 'call_Wx3USbe7OlHbySE6LpDEQXxC'}\n",
      "Back to the model!\n"
     ]
    }
   ],
   "source": [
    "messages = [HumanMessage(content=\"What is the weather in Bengaluru, India?\")]\n",
    "result = abot.graph.invoke({\"messages\": messages})"
   ]
  },
  {
   "cell_type": "code",
   "execution_count": 31,
   "id": "2d1a1624-f3b1-4e1b-a40c-83f5152a83b7",
   "metadata": {},
   "outputs": [
    {
     "data": {
      "text/plain": [
       "{'messages': [HumanMessage(content='What is the weather in Bengaluru, India?'),\n",
       "  AIMessage(content='', additional_kwargs={'tool_calls': [{'id': 'call_Wx3USbe7OlHbySE6LpDEQXxC', 'function': {'arguments': '{\"query\":\"weather in Bengaluru, India\"}', 'name': 'tavily_search_results_json'}, 'type': 'function'}]}, response_metadata={'token_usage': {'completion_tokens': 23, 'prompt_tokens': 156, 'total_tokens': 179}, 'model_name': 'gpt-3.5-turbo', 'system_fingerprint': None, 'finish_reason': 'tool_calls', 'logprobs': None}, id='run-20bead3b-05c5-4ee6-b501-df230478b019-0', tool_calls=[{'name': 'tavily_search_results_json', 'args': {'query': 'weather in Bengaluru, India'}, 'id': 'call_Wx3USbe7OlHbySE6LpDEQXxC'}]),\n",
       "  ToolMessage(content='[{\\'url\\': \\'https://www.weatherapi.com/\\', \\'content\\': \"{\\'location\\': {\\'name\\': \\'Bengaluru\\', \\'region\\': \\'Karnataka\\', \\'country\\': \\'India\\', \\'lat\\': 12.98, \\'lon\\': 77.58, \\'tz_id\\': \\'Asia/Kolkata\\', \\'localtime_epoch\\': 1718615359, \\'localtime\\': \\'2024-06-17 14:39\\'}, \\'current\\': {\\'last_updated_epoch\\': 1718614800, \\'last_updated\\': \\'2024-06-17 14:30\\', \\'temp_c\\': 31.1, \\'temp_f\\': 88.0, \\'is_day\\': 1, \\'condition\\': {\\'text\\': \\'Partly cloudy\\', \\'icon\\': \\'//cdn.weatherapi.com/weather/64x64/day/116.png\\', \\'code\\': 1003}, \\'wind_mph\\': 5.6, \\'wind_kph\\': 9.0, \\'wind_degree\\': 280, \\'wind_dir\\': \\'W\\', \\'pressure_mb\\': 1012.0, \\'pressure_in\\': 29.88, \\'precip_mm\\': 0.0, \\'precip_in\\': 0.0, \\'humidity\\': 63, \\'cloud\\': 50, \\'feelslike_c\\': 32.2, \\'feelslike_f\\': 90.0, \\'windchill_c\\': 30.5, \\'windchill_f\\': 86.8, \\'heatindex_c\\': 31.2, \\'heatindex_f\\': 88.2, \\'dewpoint_c\\': 16.8, \\'dewpoint_f\\': 62.2, \\'vis_km\\': 8.0, \\'vis_miles\\': 4.0, \\'uv\\': 8.0, \\'gust_mph\\': 10.0, \\'gust_kph\\': 16.2}}\"}, {\\'url\\': \\'https://www.ventusky.com/bengaluru\\', \\'content\\': \"Bengaluru ☀ Weather forecast for 10 days, information from meteorological stations, webcams, sunrise and sunset, wind and precipitation maps for this place ... India / Lat.: 12°58\\'N / Lon.: 77°35\\'E / Altitude: 920 m Timezone: Asia/Kolkata (UTC+5) / Current time: 05:27 2024/06/09 . Current Weather ; Forecast ; Sun and Moon ...\"}, {\\'url\\': \\'https://www.accuweather.com/en/in/bengaluru/204108/weather-forecast/204108\\', \\'content\\': \\'Bengaluru, Karnataka, India Weather Forecast, with current conditions, wind, air quality, and what to expect for the next 3 days.\\'}, {\\'url\\': \\'https://www.timeanddate.com/weather/india/bengaluru/hourly\\', \\'content\\': \\'Hour-by-Hour Forecast for Bengaluru, Karnataka, India. Time/General. Time Zone. DST Changes. Sun & Moon. Weather Today Weather Hourly 14 Day Forecast Yesterday/Past Weather Climate (Averages) Currently: 82 °F. Scattered clouds.\\'}]', name='tavily_search_results_json', tool_call_id='call_Wx3USbe7OlHbySE6LpDEQXxC'),\n",
       "  AIMessage(content='The current weather in Bengaluru, India is partly cloudy with a temperature of 31.1°C (88.0°F). The wind speed is 5.6 mph, and the humidity is 63%.', response_metadata={'token_usage': {'completion_tokens': 44, 'prompt_tokens': 860, 'total_tokens': 904}, 'model_name': 'gpt-3.5-turbo', 'system_fingerprint': None, 'finish_reason': 'stop', 'logprobs': None}, id='run-fb0c1e2d-ce54-4bfd-b833-91ae8bb33d42-0')]}"
      ]
     },
     "execution_count": 31,
     "metadata": {},
     "output_type": "execute_result"
    }
   ],
   "source": [
    "result"
   ]
  },
  {
   "cell_type": "code",
   "execution_count": 32,
   "id": "c64c365a-5df2-4045-912a-a53f52b5c660",
   "metadata": {},
   "outputs": [
    {
     "data": {
      "text/plain": [
       "'The current weather in Bengaluru, India is partly cloudy with a temperature of 31.1°C (88.0°F). The wind speed is 5.6 mph, and the humidity is 63%.'"
      ]
     },
     "execution_count": 32,
     "metadata": {},
     "output_type": "execute_result"
    }
   ],
   "source": [
    "result['messages'][-1].content"
   ]
  },
  {
   "cell_type": "code",
   "execution_count": 33,
   "id": "e83fac95-cb14-4589-a675-bb79db4bf8b6",
   "metadata": {},
   "outputs": [
    {
     "name": "stdout",
     "output_type": "stream",
     "text": [
      "Calling: {'name': 'tavily_search_results_json', 'args': {'query': 'Indian Premier League winner 2023'}, 'id': 'call_ug6NPt5StlheDJiU6B0vuxn9'}\n",
      "Calling: {'name': 'tavily_search_results_json', 'args': {'query': 'current GDP of the State that won Indian Premier League 2023'}, 'id': 'call_HpkwAMpUb5uFpf1aXrQ22QMy'}\n",
      "Back to the model!\n",
      "Calling: {'name': 'tavily_search_results_json', 'args': {'query': 'current GDP of Chennai State'}, 'id': 'call_9AdugnCq1SHbB8GbU30xeqzh'}\n",
      "Back to the model!\n"
     ]
    }
   ],
   "source": [
    "query = \"Who won Indian Premier League in 2023? What is the current GDP of that State?\"\n",
    "messages = [HumanMessage(content=query)]\n",
    "result = abot.graph.invoke({\"messages\": messages})"
   ]
  },
  {
   "cell_type": "code",
   "execution_count": 34,
   "id": "79e7e388-1661-481d-9580-c14e468061af",
   "metadata": {},
   "outputs": [
    {
     "data": {
      "text/plain": [
       "'The GDP of Chennai, the capital city of the Indian state of Tamil Nadu, was estimated to be around $128.3 billion.'"
      ]
     },
     "execution_count": 34,
     "metadata": {},
     "output_type": "execute_result"
    }
   ],
   "source": [
    "result['messages'][-1].content"
   ]
  },
  {
   "cell_type": "markdown",
   "id": "18fea362-fe96-4c09-b9fb-93f5af027f1d",
   "metadata": {},
   "source": [
    "## Persistence And Streaming"
   ]
  },
  {
   "cell_type": "code",
   "execution_count": 35,
   "id": "07e98d93-0d6a-4cf2-b7c9-fe737075624f",
   "metadata": {},
   "outputs": [],
   "source": [
    "from langgraph.checkpoint.sqlite import SqliteSaver\n",
    "\n",
    "memory = SqliteSaver.from_conn_string(\":memory:\")"
   ]
  },
  {
   "cell_type": "code",
   "execution_count": 36,
   "id": "0057d828-2b0c-4b7f-955d-4e98344b2ab8",
   "metadata": {},
   "outputs": [],
   "source": [
    "# Modification to Agent Class\n",
    "class Agent:\n",
    "    def __init__(self, model, tools, checkpointer, system=\"\"):\n",
    "        self.system = system\n",
    "        graph = StateGraph(AgentState)\n",
    "        graph.add_node(\"llm\", self.call_openai)\n",
    "        graph.add_node(\"action\", self.take_action)\n",
    "        graph.add_conditional_edges(\n",
    "            \"llm\", \n",
    "            self.exists_action,\n",
    "            {True: \"action\", False: END}\n",
    "        )\n",
    "        graph.add_edge(\"action\", \"llm\")\n",
    "        graph.set_entry_point(\"llm\")\n",
    "        self.graph = graph.compile(checkpointer=checkpointer)\n",
    "        self.tools = {t.name: t for t in tools}\n",
    "        self.model = model.bind_tools(tools)\n",
    "\n",
    "    def exists_action(self, state: AgentState):\n",
    "        result = state['messages'][-1]\n",
    "        return len(result.tool_calls) > 0\n",
    "\n",
    "    def call_openai(self, state: AgentState):\n",
    "        messages = state['messages']\n",
    "        if self.system:\n",
    "            messages = [SystemMessage(content=self.system)] + messages\n",
    "        message = self.model.invoke(messages)\n",
    "        return {'messages': [message]}\n",
    "\n",
    "    def take_action(self, state: AgentState):\n",
    "        tool_calls = state['messages'][-1].tool_calls\n",
    "        results = []\n",
    "        for t in tool_calls:\n",
    "            print(f\"Calling: {t}\")\n",
    "            if not t['name'] in self.tools:\n",
    "                print(\"\\n ...bad tool name....\")\n",
    "                result = \"bad tool name, retry\"\n",
    "            else:\n",
    "                result = self.tools[t['name']].invoke(t['args'])\n",
    "            results.append(ToolMessage(tool_call_id=t['id'], name=t['name'], content=str(result)))\n",
    "        print(\"Back to the model!\")\n",
    "        return {'messages': results}"
   ]
  },
  {
   "cell_type": "code",
   "execution_count": 38,
   "id": "d71343d4-8041-4c96-819f-d832e1b19237",
   "metadata": {},
   "outputs": [],
   "source": [
    "prompt = \"\"\"You are a smart research assistant. Use the search engine to look up information. \\\n",
    "You are allowed to make multiple calls (either together or in sequence). \\\n",
    "Only look up information when you are sure of what you want. \\\n",
    "If you need to look up some information before asking a follow up question, you are allowed to do that!\n",
    "\"\"\"\n",
    "\n",
    "model = ChatOpenAI(model=\"gpt-3.5-turbo\")\n",
    "abot = Agent(model, [tavily_tool], system=prompt, checkpointer=memory)"
   ]
  },
  {
   "cell_type": "markdown",
   "id": "702f8e59-0dd4-4a27-b066-83562088fe10",
   "metadata": {},
   "source": [
    "### Message Streaming"
   ]
  },
  {
   "cell_type": "code",
   "execution_count": 39,
   "id": "c9864f6a-2cc7-42e1-b882-7963937c4242",
   "metadata": {},
   "outputs": [],
   "source": [
    "messages = [HumanMessage(content=\"What is the weather in Bengaluru, India?\")]"
   ]
  },
  {
   "cell_type": "code",
   "execution_count": 40,
   "id": "a9da2955-de01-474b-88eb-a60b356cdb01",
   "metadata": {},
   "outputs": [],
   "source": [
    "thread = {\"configurable\": {\"thread_id\": \"1\"}}"
   ]
  },
  {
   "cell_type": "code",
   "execution_count": 41,
   "id": "ff9cad07-4aee-4198-a3b7-dcbfa4946631",
   "metadata": {},
   "outputs": [
    {
     "name": "stdout",
     "output_type": "stream",
     "text": [
      "[AIMessage(content='', additional_kwargs={'tool_calls': [{'id': 'call_d4t4R136msW3K3HjsjvBLctV', 'function': {'arguments': '{\"query\":\"weather in Bengaluru, India\"}', 'name': 'tavily_search_results_json'}, 'type': 'function'}]}, response_metadata={'token_usage': {'completion_tokens': 23, 'prompt_tokens': 156, 'total_tokens': 179}, 'model_name': 'gpt-3.5-turbo', 'system_fingerprint': None, 'finish_reason': 'tool_calls', 'logprobs': None}, id='run-35f4082d-0ace-4bbf-8dcb-3b6f901ad4b4-0', tool_calls=[{'name': 'tavily_search_results_json', 'args': {'query': 'weather in Bengaluru, India'}, 'id': 'call_d4t4R136msW3K3HjsjvBLctV'}])]\n",
      "Calling: {'name': 'tavily_search_results_json', 'args': {'query': 'weather in Bengaluru, India'}, 'id': 'call_d4t4R136msW3K3HjsjvBLctV'}\n",
      "Back to the model!\n",
      "[ToolMessage(content='[{\\'url\\': \\'https://www.weatherapi.com/\\', \\'content\\': \"{\\'location\\': {\\'name\\': \\'Bengaluru\\', \\'region\\': \\'Karnataka\\', \\'country\\': \\'India\\', \\'lat\\': 12.98, \\'lon\\': 77.58, \\'tz_id\\': \\'Asia/Kolkata\\', \\'localtime_epoch\\': 1718615669, \\'localtime\\': \\'2024-06-17 14:44\\'}, \\'current\\': {\\'last_updated_epoch\\': 1718614800, \\'last_updated\\': \\'2024-06-17 14:30\\', \\'temp_c\\': 31.1, \\'temp_f\\': 88.0, \\'is_day\\': 1, \\'condition\\': {\\'text\\': \\'Partly cloudy\\', \\'icon\\': \\'//cdn.weatherapi.com/weather/64x64/day/116.png\\', \\'code\\': 1003}, \\'wind_mph\\': 5.6, \\'wind_kph\\': 9.0, \\'wind_degree\\': 280, \\'wind_dir\\': \\'W\\', \\'pressure_mb\\': 1012.0, \\'pressure_in\\': 29.88, \\'precip_mm\\': 0.0, \\'precip_in\\': 0.0, \\'humidity\\': 63, \\'cloud\\': 50, \\'feelslike_c\\': 32.2, \\'feelslike_f\\': 90.0, \\'windchill_c\\': 30.5, \\'windchill_f\\': 86.8, \\'heatindex_c\\': 31.2, \\'heatindex_f\\': 88.2, \\'dewpoint_c\\': 16.8, \\'dewpoint_f\\': 62.2, \\'vis_km\\': 8.0, \\'vis_miles\\': 4.0, \\'uv\\': 8.0, \\'gust_mph\\': 10.0, \\'gust_kph\\': 16.2}}\"}, {\\'url\\': \\'https://www.weather25.com/asia/india/karnataka/bangalore?page=month&month=June\\', \\'content\\': \"The weather in Bangalore in June is hot. The average temperatures are between 69°F and 86°F. You can expect rain for roughly half of the month of June in Bangalore. We\\'re expecting roughly 8 to 15 days of rain, so your rubber boots and umbrella are going to see plenty of use this month if you\\'re keen on staying dry.\"}, {\\'url\\': \\'https://www.hindustantimes.com/cities/bengaluru-news/bangalore-weather-today-aqi-and-rain-forecast-updates-june-17-2024-101718587807251.html\\', \\'content\\': \"The temperature in Bangalore today, on June 17, 2024, is 27.95 °C. The day\\'s forecast indicates a minimum and maximum temperature of 22.01 °C and 30.68 °C, respectively.\"}, {\\'url\\': \\'https://weatherspark.com/h/m/108998/2024/6/Historical-Weather-in-June-2024-in-Bengaluru-Karnataka-India\\', \\'content\\': \\'This report shows the past weather for Bengaluru, providing a weather history for June 2024. It features all historical weather data series we have available, including the Bengaluru temperature history for June 2024. You can drill down from year to month and even day level reports by clicking on the graphs.\\'}]', name='tavily_search_results_json', tool_call_id='call_d4t4R136msW3K3HjsjvBLctV')]\n",
      "[AIMessage(content='The current weather in Bengaluru, India is as follows:\\n- Temperature: 31.1°C (88.0°F)\\n- Condition: Partly cloudy\\n- Wind: 5.6 mph from the west\\n- Pressure: 1012.0 mb\\n- Humidity: 63%\\n- Cloud Cover: 50%\\n- Feels like: 32.2°C (90.0°F)\\n- Dewpoint: 16.8°C (62.2°F)\\n- Visibility: 8.0 km (4.0 miles)\\n- UV Index: 8.0\\n\\nFor more detailed historical weather data for Bengaluru in June 2024, you can visit [WeatherSpark](https://weatherspark.com/h/m/108998/2024/6/Historical-Weather-in-June-2024-in-Bengaluru-Karnataka-India).', response_metadata={'token_usage': {'completion_tokens': 183, 'prompt_tokens': 918, 'total_tokens': 1101}, 'model_name': 'gpt-3.5-turbo', 'system_fingerprint': None, 'finish_reason': 'stop', 'logprobs': None}, id='run-75eca1ce-ae1e-4e21-bb11-125da4d983af-0')]\n"
     ]
    }
   ],
   "source": [
    "for event in abot.graph.stream({\"messages\": messages}, thread):\n",
    "    for v in event.values():\n",
    "        print(v['messages'])"
   ]
  },
  {
   "cell_type": "code",
   "execution_count": 42,
   "id": "9c23bd5e-436d-4975-9be0-fc1881a7e6f3",
   "metadata": {},
   "outputs": [
    {
     "name": "stdout",
     "output_type": "stream",
     "text": [
      "[AIMessage(content='', additional_kwargs={'tool_calls': [{'id': 'call_qvLumrdFTLkCez4K5n7VTMuI', 'function': {'arguments': '{\"query\":\"weather in Patna, India\"}', 'name': 'tavily_search_results_json'}, 'type': 'function'}]}, response_metadata={'token_usage': {'completion_tokens': 23, 'prompt_tokens': 1113, 'total_tokens': 1136}, 'model_name': 'gpt-3.5-turbo', 'system_fingerprint': None, 'finish_reason': 'tool_calls', 'logprobs': None}, id='run-cd0c6a57-7432-4128-8da9-c1836e850ce8-0', tool_calls=[{'name': 'tavily_search_results_json', 'args': {'query': 'weather in Patna, India'}, 'id': 'call_qvLumrdFTLkCez4K5n7VTMuI'}])]\n",
      "Calling: {'name': 'tavily_search_results_json', 'args': {'query': 'weather in Patna, India'}, 'id': 'call_qvLumrdFTLkCez4K5n7VTMuI'}\n",
      "Back to the model!\n",
      "[ToolMessage(content='[{\\'url\\': \\'https://www.weatherapi.com/\\', \\'content\\': \"{\\'location\\': {\\'name\\': \\'Patna\\', \\'region\\': \\'Bihar\\', \\'country\\': \\'India\\', \\'lat\\': 25.6, \\'lon\\': 85.12, \\'tz_id\\': \\'Asia/Kolkata\\', \\'localtime_epoch\\': 1718615750, \\'localtime\\': \\'2024-06-17 14:45\\'}, \\'current\\': {\\'last_updated_epoch\\': 1718614800, \\'last_updated\\': \\'2024-06-17 14:30\\', \\'temp_c\\': 37.0, \\'temp_f\\': 98.6, \\'is_day\\': 1, \\'condition\\': {\\'text\\': \\'Sunny\\', \\'icon\\': \\'//cdn.weatherapi.com/weather/64x64/day/113.png\\', \\'code\\': 1000}, \\'wind_mph\\': 2.2, \\'wind_kph\\': 3.6, \\'wind_degree\\': 115, \\'wind_dir\\': \\'ESE\\', \\'pressure_mb\\': 1002.0, \\'pressure_in\\': 29.57, \\'precip_mm\\': 0.0, \\'precip_in\\': 0.0, \\'humidity\\': 43, \\'cloud\\': 3, \\'feelslike_c\\': 43.0, \\'feelslike_f\\': 109.5, \\'windchill_c\\': 37.0, \\'windchill_f\\': 98.6, \\'heatindex_c\\': 43.0, \\'heatindex_f\\': 109.5, \\'dewpoint_c\\': 22.2, \\'dewpoint_f\\': 72.0, \\'vis_km\\': 10.0, \\'vis_miles\\': 6.0, \\'uv\\': 9.0, \\'gust_mph\\': 2.3, \\'gust_kph\\': 3.7}}\"}, {\\'url\\': \\'https://world-weather.info/forecast/india/patna/june-2024/\\', \\'content\\': \"Detailed ⚡ Patna Weather Forecast for June 2024 - day/night 🌡️ temperatures, precipitations - World-Weather.info ... Archive; Widgets °F. World; India; Bihār State of; Weather in Patna; Weather in Patna in June 2024. Patna Weather Forecast for June 2024 is based on long term prognosis and previous years\\' statistical data. 2015 2016 ...\"}, {\\'url\\': \\'https://weatherspark.com/h/y/111069/2024/Historical-Weather-during-2024-in-Patna-India\\', \\'content\\': \\'2024 Weather History in Patna Bihar, India. ... 2.17 mi Alt. 29.47 inHg: Raw: VEPT 151600Z 08013KT 3500 BR SCT018 BKN100 34/31 Q0998 NOSIG. This report shows the past weather for Patna, providing a weather history for 2024. It features all historical weather data series we have available, including the Patna temperature history for 2024. ...\\'}, {\\'url\\': \\'https://www.weather25.com/asia/india/bihar/patna?page=month&month=June\\', \\'content\\': \"The average weather in Patna in June. The temperatures in Patna during June are extremely high, between 32°C and hot as 41°C, drinking water regularly is advisable. You can expect about 3 to 8 days of rain in Patna during the month of June. It\\'s a good idea to bring along your umbrella so that you don\\'t get caught in poor weather.\"}]', name='tavily_search_results_json', tool_call_id='call_qvLumrdFTLkCez4K5n7VTMuI')]\n",
      "[AIMessage(content='The current weather in Patna, India is as follows:\\n- Temperature: 37.0°C (98.6°F)\\n- Condition: Sunny\\n- Wind: 2.2 mph from east-southeast\\n- Pressure: 1002.0 mb\\n- Humidity: 43%\\n- Cloud Cover: 3%\\n- Feels like: 43.0°C (109.5°F)\\n- Dewpoint: 22.2°C (72.0°F)\\n- Visibility: 10.0 km (6.0 miles)\\n- UV Index: 9.0\\n\\nFor more detailed historical weather data for Patna in 2024, you can visit [WeatherSpark](https://weatherspark.com/h/y/111069/2024/Historical-Weather-during-2024-in-Patna-India).', response_metadata={'token_usage': {'completion_tokens': 175, 'prompt_tokens': 1924, 'total_tokens': 2099}, 'model_name': 'gpt-3.5-turbo', 'system_fingerprint': None, 'finish_reason': 'stop', 'logprobs': None}, id='run-7211371a-b832-4a23-994c-1bd43decfa82-0')]\n"
     ]
    }
   ],
   "source": [
    "messages = [HumanMessage(content=\"What about Patna?\")]\n",
    "thread = {\"configurable\": {\"thread_id\": \"1\"}}\n",
    "for event in abot.graph.stream({\"messages\": messages}, thread):\n",
    "    for v in event.values():\n",
    "        print(v['messages'])"
   ]
  },
  {
   "cell_type": "code",
   "execution_count": 43,
   "id": "772b6b88-b313-475d-84de-e3070bac6bce",
   "metadata": {},
   "outputs": [
    {
     "name": "stdout",
     "output_type": "stream",
     "text": [
      "[AIMessage(content='Patna is currently warmer than Bengaluru. The temperature in Patna is 37.0°C (98.6°F) while the temperature in Bengaluru is 31.1°C (88.0°F).', response_metadata={'token_usage': {'completion_tokens': 45, 'prompt_tokens': 2111, 'total_tokens': 2156}, 'model_name': 'gpt-3.5-turbo', 'system_fingerprint': None, 'finish_reason': 'stop', 'logprobs': None}, id='run-e7eff8c4-1199-4abb-8793-c7ff84eddf51-0')]\n"
     ]
    }
   ],
   "source": [
    "messages = [HumanMessage(content=\"Which one is warmer?\")]\n",
    "thread = {\"configurable\": {\"thread_id\": \"1\"}}\n",
    "for event in abot.graph.stream({\"messages\": messages}, thread):\n",
    "    for v in event.values():\n",
    "        print(v['messages'])"
   ]
  },
  {
   "cell_type": "markdown",
   "id": "0380b1cc-5c23-4d6d-8ab7-c447d02b42f5",
   "metadata": {},
   "source": [
    "### Token Streaming"
   ]
  },
  {
   "cell_type": "code",
   "execution_count": 45,
   "id": "992fc3bc-1029-487a-a92f-da77551ecd8a",
   "metadata": {},
   "outputs": [],
   "source": [
    "from langgraph.checkpoint.aiosqlite import AsyncSqliteSaver\n",
    "\n",
    "memory = AsyncSqliteSaver.from_conn_string(\":memory:\")\n",
    "abot = Agent(model, [tavily_tool], system=prompt, checkpointer=memory)"
   ]
  },
  {
   "cell_type": "code",
   "execution_count": 48,
   "id": "88d7ea93-3f5c-4923-aea4-5ef96dff2a8d",
   "metadata": {},
   "outputs": [
    {
     "name": "stdout",
     "output_type": "stream",
     "text": [
      "Calling: {'name': 'tavily_search_results_json', 'args': {'query': 'weather in Bengaluru, India'}, 'id': 'call_cpOmn7vYwODpjoHTjlmaqmXo'}\n",
      "Back to the model!\n"
     ]
    }
   ],
   "source": [
    "messages = [HumanMessage(content=\"What is the weather in Bengaluru, India?\")]\n",
    "thread = {\"configurable\": {\"thread_id\": \"2\"}}\n",
    "async for event in abot.graph.astream_events({\"messages\": messages}, thread, version=\"v1\"):\n",
    "    kind = event['event']\n",
    "    if kind == \"on_chat_model_stream\":\n",
    "        content = event['data']['chunk'].content\n",
    "        if content:\n",
    "            print(content, end=\"|\")"
   ]
  },
  {
   "cell_type": "markdown",
   "id": "e91bfa79-7d6e-4a8e-9414-0c455f66def2",
   "metadata": {},
   "source": [
    "## Human in the Loop"
   ]
  },
  {
   "cell_type": "code",
   "execution_count": 50,
   "id": "947db52e-37b5-4300-ac7a-6a7e11e7b6e6",
   "metadata": {},
   "outputs": [],
   "source": [
    "from uuid import uuid4\n",
    "\n",
    "\"\"\"\n",
    "In Previous examples, the 'messages' state key were annotated\n",
    "with the default 'operator.add' or '+' reducer, which always\n",
    "appends new messages to the end of the existing messages array.\n",
    "\n",
    "To support replacing existing messages, we annotate the 'messages'\n",
    "key with a custom reducer function, which replaces messages with the same 'id'\n",
    "and appends them otherwise.\n",
    "\"\"\"\n",
    "def reduce_messages(left: list[AnyMessage], right: list[AnyMessage]) -> list[AnyMessage]:\n",
    "    # Assign ids to messages that don't have them\n",
    "    for message in right:\n",
    "        if not message.id:\n",
    "            message.id = str(uuid4())\n",
    "    # Merge the new messages with the existing messages\n",
    "    merged = left.copy()\n",
    "    for message in right:\n",
    "        for i, existing in enumerate(merged):\n",
    "            # Replace any existing messages with the same id\n",
    "            if existing.id == message.id:\n",
    "                merged[i] = message\n",
    "                break\n",
    "        else:\n",
    "            # Append any new messages to the end\n",
    "            merged.append(message)\n",
    "    return merged\n",
    "\n",
    "class AgentState(TypedDict):\n",
    "    messages: Annotated[list[AnyMessage], reduce_messages]"
   ]
  },
  {
   "cell_type": "code",
   "execution_count": 51,
   "id": "9cf339b8-864f-4126-93f0-c128855759c2",
   "metadata": {},
   "outputs": [],
   "source": [
    "# Modification to Agent Class\n",
    "class Agent:\n",
    "    def __init__(self, model, tools, checkpointer, system=\"\"):\n",
    "        self.system = system\n",
    "        graph = StateGraph(AgentState)\n",
    "        graph.add_node(\"llm\", self.call_openai)\n",
    "        graph.add_node(\"action\", self.take_action)\n",
    "        graph.add_conditional_edges(\n",
    "            \"llm\", \n",
    "            self.exists_action,\n",
    "            {True: \"action\", False: END}\n",
    "        )\n",
    "        graph.add_edge(\"action\", \"llm\")\n",
    "        graph.set_entry_point(\"llm\")\n",
    "        self.graph = graph.compile(\n",
    "            checkpointer=checkpointer, \n",
    "            interrupt_before=['action'])\n",
    "        self.tools = {t.name: t for t in tools}\n",
    "        self.model = model.bind_tools(tools)\n",
    "\n",
    "    def exists_action(self, state: AgentState):\n",
    "        result = state['messages'][-1]\n",
    "        return len(result.tool_calls) > 0\n",
    "\n",
    "    def call_openai(self, state: AgentState):\n",
    "        messages = state['messages']\n",
    "        if self.system:\n",
    "            messages = [SystemMessage(content=self.system)] + messages\n",
    "        message = self.model.invoke(messages)\n",
    "        return {'messages': [message]}\n",
    "\n",
    "    def take_action(self, state: AgentState):\n",
    "        tool_calls = state['messages'][-1].tool_calls\n",
    "        results = []\n",
    "        for t in tool_calls:\n",
    "            print(f\"Calling: {t}\")\n",
    "            if not t['name'] in self.tools:\n",
    "                print(\"\\n ...bad tool name....\")\n",
    "                result = \"bad tool name, retry\"\n",
    "            else:\n",
    "                result = self.tools[t['name']].invoke(t['args'])\n",
    "            results.append(ToolMessage(tool_call_id=t['id'], name=t['name'], content=str(result)))\n",
    "        print(\"Back to the model!\")\n",
    "        return {'messages': results}"
   ]
  },
  {
   "cell_type": "code",
   "execution_count": 55,
   "id": "94190f3e-bc7d-471f-8175-be83ad0531f6",
   "metadata": {},
   "outputs": [
    {
     "name": "stdout",
     "output_type": "stream",
     "text": [
      "[AIMessage(content='', additional_kwargs={'tool_calls': [{'id': 'call_Mjtawc8W8YBxZAJQgVKICzvS', 'function': {'arguments': '{\"query\":\"current weather in Delhi\"}', 'name': 'tavily_search_results_json'}, 'type': 'function'}]}, response_metadata={'token_usage': {'completion_tokens': 21, 'prompt_tokens': 152, 'total_tokens': 173}, 'model_name': 'gpt-4-turbo', 'system_fingerprint': 'fp_9d7f5c6195', 'finish_reason': 'tool_calls', 'logprobs': None}, id='run-dde992ff-fb7e-4878-8a8d-e74bf8f1aefe-0', tool_calls=[{'name': 'tavily_search_results_json', 'args': {'query': 'current weather in Delhi'}, 'id': 'call_Mjtawc8W8YBxZAJQgVKICzvS'}])]\n"
     ]
    }
   ],
   "source": [
    "memory = SqliteSaver.from_conn_string(\":memory:\")\n",
    "\n",
    "tavily_tool = TavilySearchResults(max_results=4)\n",
    "\n",
    "prompt = \"\"\"You are a smart research assistant. Use the search engine to look up information. \\\n",
    "You are allowed to make multiple calls (either together or in sequence). \\\n",
    "Only look up information when you are sure of what you want. \\\n",
    "If you need to look up some information before asking a follow up question, you are allowed to do that!\n",
    "\"\"\"\n",
    "\n",
    "model = ChatOpenAI(model=\"gpt-4-turbo\")\n",
    "abot = Agent(model, [tavily_tool], system=prompt, checkpointer=memory)\n",
    "messages = [HumanMessage(content=\"Whats the weather in Delhi?\")]\n",
    "thread = {\"configurable\": {\"thread_id\": \"3\"}}\n",
    "for event in abot.graph.stream({\"messages\": messages}, thread):\n",
    "    for v in event.values():\n",
    "        print(v['messages'])"
   ]
  },
  {
   "cell_type": "code",
   "execution_count": null,
   "id": "adf839f6-32de-4197-a78c-5df12d633769",
   "metadata": {},
   "outputs": [],
   "source": []
  },
  {
   "cell_type": "markdown",
   "id": "6fe49f2d-8727-4ca9-9221-fb6a513f45f8",
   "metadata": {},
   "source": [
    "## Essay Writer"
   ]
  },
  {
   "cell_type": "code",
   "execution_count": 59,
   "id": "48ac0062-696f-4e7f-88bc-377f8f4f5ce1",
   "metadata": {},
   "outputs": [],
   "source": [
    "# Set in memory checkpoint\n",
    "memory = SqliteSaver.from_conn_string(\":essay_memory:\")"
   ]
  },
  {
   "cell_type": "code",
   "execution_count": 62,
   "id": "f6c85124-c5f8-4330-9022-953132a9ec96",
   "metadata": {},
   "outputs": [],
   "source": [
    "# Create Agent State\n",
    "class AgentState(TypedDict):\n",
    "    task: str\n",
    "    plan: str\n",
    "    draft: str\n",
    "    critique: str\n",
    "    content: List[str]\n",
    "    revision_number: int\n",
    "    max_revisions: int"
   ]
  },
  {
   "cell_type": "code",
   "execution_count": 63,
   "id": "5a155001-fb75-419f-9ae9-5ce859762096",
   "metadata": {},
   "outputs": [],
   "source": [
    "# Instantiate LLM\n",
    "model = ChatOpenAI(model=\"gpt-3.5-turbo\", temperature=0)"
   ]
  },
  {
   "cell_type": "code",
   "execution_count": 64,
   "id": "74140727-ba2f-4a33-adb3-5425ade814dd",
   "metadata": {},
   "outputs": [],
   "source": [
    "# Create Planning Prompt\n",
    "PLAN_PROMPT = \"\"\"You are an expert writer tasked with writing a high level outline of an essay. \\\n",
    "Write such an outline for the user provided topic. Give an outline of the essay along with any relevant notes \\\n",
    "or instructions for the sections.\n",
    "\"\"\""
   ]
  },
  {
   "cell_type": "code",
   "execution_count": 65,
   "id": "b1005cf9-ac18-432d-90ab-39477b7cdf96",
   "metadata": {},
   "outputs": [],
   "source": [
    "# Create Writer Prompt\n",
    "WRITER_PROMPT = \"\"\"You are an essay assistant tasked with writing excellent 5-paragraph essays. \\\n",
    "Generate the best essay possible for the user's request and the initial outline. \\\n",
    "If the user provides critique, respond with a revised version of your previous attempts. \\\n",
    "Utilize all the information below as needed:\n",
    "\n",
    "------\n",
    "\n",
    "{content}\"\"\""
   ]
  },
  {
   "cell_type": "code",
   "execution_count": 66,
   "id": "e52f6c8b-e45a-4fd8-b274-f94505d74642",
   "metadata": {},
   "outputs": [],
   "source": [
    "# Create Reflection prompt\n",
    "REFLECTION_PROMPT = \"\"\"You are a teacher grading an essay submission. \\\n",
    "Generate critique and recommendations for the user's submission. \\\n",
    "Provide detailed recommendations, including requests for length, depth, style, etc.\"\"\""
   ]
  },
  {
   "cell_type": "code",
   "execution_count": 67,
   "id": "9c21b578-15ee-4a07-b7f2-185ac1ffd5af",
   "metadata": {},
   "outputs": [],
   "source": [
    "# Create Research prompt\n",
    "RESEARCH_PLAN_PROMPT = \"\"\"You are a researcher charged with providing information that can \\\n",
    "be used when writing the following essay. Generate a list of search queries that will gather \\\n",
    "any relevant information. Only generate 3 queries max.\"\"\""
   ]
  },
  {
   "cell_type": "code",
   "execution_count": 68,
   "id": "fe85f341-be47-4de7-9c07-f51f46707115",
   "metadata": {},
   "outputs": [],
   "source": [
    "# Create Critique Prompt\n",
    "RESEARCH_CRITIQUE_PROMPT = \"\"\"You are a researcher charged with providing more information that can \\\n",
    "be used when making any requested revisions (as outlined below). \\\n",
    "Generate a list of search queries that will gather any relevant information. Only generate 3 queries max.\"\"\""
   ]
  },
  {
   "cell_type": "code",
   "execution_count": 70,
   "id": "911b63f5-854e-49d0-9962-a87ac5730cd8",
   "metadata": {},
   "outputs": [],
   "source": [
    "from langchain_core.pydantic_v1 import BaseModel\n",
    "\n",
    "class Queries(BaseModel):\n",
    "    queries: List[str]"
   ]
  },
  {
   "cell_type": "code",
   "execution_count": 71,
   "id": "6d7b855a-cba8-4339-91c3-03a6536c8fe6",
   "metadata": {},
   "outputs": [],
   "source": [
    "from tavily import TavilyClient\n",
    "\n",
    "tavily = TavilyClient(api_key=os.environ['TAVILY_API_KEY'])"
   ]
  },
  {
   "cell_type": "code",
   "execution_count": 72,
   "id": "16bb228f-8a5d-4af5-8e29-0ffa6a3f4b24",
   "metadata": {},
   "outputs": [],
   "source": [
    "def plan_node(state: AgentState):\n",
    "    messages = [\n",
    "        SystemMessage(content=PLAN_PROMPT), \n",
    "        HumanMessage(content=state['task'])\n",
    "    ]\n",
    "    response = model.invoke(messages)\n",
    "    return {\"plan\": response.content}"
   ]
  },
  {
   "cell_type": "code",
   "execution_count": 73,
   "id": "a4eaa989-4f9a-4fa8-a53c-43b0f4df3b8b",
   "metadata": {},
   "outputs": [],
   "source": [
    "def research_plan_node(state: AgentState):\n",
    "    queries = model.with_structured_output(Queries).invoke([\n",
    "        SystemMessage(content=RESEARCH_PLAN_PROMPT), \n",
    "        HumanMessage(content=state['task'])\n",
    "    ])\n",
    "    content = state['content'] or []\n",
    "    for q in queries.queries:\n",
    "        response = tavily.search(query=q, max_results=2)\n",
    "        for r in response['results']:\n",
    "            content.append(r['content'])\n",
    "    return {\"content\": content}"
   ]
  },
  {
   "cell_type": "code",
   "execution_count": 74,
   "id": "2f86d6ae-98fa-476c-9d2d-2eb2fd86ecaa",
   "metadata": {},
   "outputs": [],
   "source": [
    "def generation_node(state: AgentState):\n",
    "    content = \"\\n\\n\".join(state['content'] or [])\n",
    "    user_message = HumanMessage(\n",
    "        content=f\"{state['task']}\\n\\nHere is the plan:\\n\\n{state['plan']}\")\n",
    "    messages = [\n",
    "        SystemMessage(\n",
    "            content=WRITER_PROMPT.format(content=content)\n",
    "        ), \n",
    "        user_message\n",
    "    ]\n",
    "    response = model.invoke(messages)\n",
    "    return {\n",
    "        \"draft\": response.content, \n",
    "        \"revision_number\": state.get(\"revision_number\", 1) + 1\n",
    "    }"
   ]
  },
  {
   "cell_type": "code",
   "execution_count": 75,
   "id": "bddff99a-9421-482f-b2b9-95fa3e23e57d",
   "metadata": {},
   "outputs": [],
   "source": [
    "def reflection_node(state: AgentState):\n",
    "    messages = [\n",
    "        SystemMessage(content=REFLECTION_PROMPT), \n",
    "        HumanMessage(content=state['draft'])\n",
    "    ]\n",
    "    response = model.invoke(messages)\n",
    "    return {\"critique\": response.content}"
   ]
  },
  {
   "cell_type": "code",
   "execution_count": 76,
   "id": "51f5ed04-7f15-4d71-b4a8-75927104ac6a",
   "metadata": {},
   "outputs": [],
   "source": [
    "def research_critique_node(state: AgentState):\n",
    "    queries = model.with_structured_output(Queries).invoke([\n",
    "        SystemMessage(content=RESEARCH_CRITIQUE_PROMPT), \n",
    "        HumanMessage(content=state['critique'])\n",
    "    ])\n",
    "    content = state['content'] or []\n",
    "    for q in queries.queries:\n",
    "        response = tavily.search(query=q, max_results=2)\n",
    "        for r in response['results']:\n",
    "            content.append(r['content'])\n",
    "    return {\"content\": content}"
   ]
  },
  {
   "cell_type": "code",
   "execution_count": 77,
   "id": "38301b52-5340-432d-b762-8b2e2c7ff60c",
   "metadata": {},
   "outputs": [],
   "source": [
    "def should_continue(state):\n",
    "    if state[\"revision_number\"] > state[\"max_revisions\"]:\n",
    "        return END\n",
    "    return \"reflect\""
   ]
  },
  {
   "cell_type": "code",
   "execution_count": 78,
   "id": "dabb97c1-dcc6-4e5b-b8a1-f3db9beca160",
   "metadata": {},
   "outputs": [],
   "source": [
    "# Initialize Graph with AgentState\n",
    "builder = StateGraph(AgentState)"
   ]
  },
  {
   "cell_type": "code",
   "execution_count": 79,
   "id": "bf59d42b-d439-4a36-acbe-51b207de3b8d",
   "metadata": {},
   "outputs": [],
   "source": [
    "# Add different nodes\n",
    "builder.add_node(\"planner\", plan_node)\n",
    "builder.add_node(\"generate\", generation_node)\n",
    "builder.add_node(\"reflect\", reflection_node)\n",
    "builder.add_node(\"research_plan\", research_plan_node)\n",
    "builder.add_node(\"research_critique\", research_critique_node)"
   ]
  },
  {
   "cell_type": "code",
   "execution_count": 80,
   "id": "36e720c5-03a9-4135-a637-55d5aa479d03",
   "metadata": {},
   "outputs": [],
   "source": [
    "# Set Entry Point\n",
    "builder.set_entry_point(\"planner\")"
   ]
  },
  {
   "cell_type": "code",
   "execution_count": 81,
   "id": "1ad0de26-e0d1-4bd3-8fe7-90bc5a05eb3d",
   "metadata": {},
   "outputs": [],
   "source": [
    "builder.add_conditional_edges(\n",
    "    \"generate\", \n",
    "    should_continue, \n",
    "    {END: END, \"reflect\": \"reflect\"}\n",
    ")"
   ]
  },
  {
   "cell_type": "code",
   "execution_count": 82,
   "id": "bcfd9c05-fa7e-4a2b-9d8e-ed8ea0dfd2ac",
   "metadata": {},
   "outputs": [],
   "source": [
    "# Add edges\n",
    "builder.add_edge(\"planner\", \"research_plan\")\n",
    "builder.add_edge(\"research_plan\", \"generate\")\n",
    "\n",
    "builder.add_edge(\"reflect\", \"research_critique\")\n",
    "builder.add_edge(\"research_critique\", \"generate\")"
   ]
  },
  {
   "cell_type": "code",
   "execution_count": 83,
   "id": "28f04c26-c385-40f9-97cb-e706d9c35af8",
   "metadata": {},
   "outputs": [],
   "source": [
    "graph = builder.compile(checkpointer=memory)"
   ]
  },
  {
   "cell_type": "code",
   "execution_count": 85,
   "id": "bc5b0a2b-fb6e-416e-9583-3bf78fede9ad",
   "metadata": {},
   "outputs": [
    {
     "data": {
      "image/png": "[encoded data removed]",
      "text/plain": [
       "<IPython.core.display.Image object>"
      ]
     },
     "execution_count": 85,
     "metadata": {},
     "output_type": "execute_result"
    }
   ],
   "source": [
    "from IPython.display import Image\n",
    "Image(graph.get_graph().draw_png())"
   ]
  },
  {
   "cell_type": "code",
   "execution_count": 86,
   "id": "7e85eef9-3610-49b4-8e48-62dd6b3ae713",
   "metadata": {},
   "outputs": [
    {
     "name": "stdout",
     "output_type": "stream",
     "text": [
      "{'planner': {'plan': 'I. Introduction\\n    A. Brief overview of Langchain and Langsmith\\n    B. Thesis statement: Exploring the differences between Langchain and Langsmith\\n\\nII. Langchain\\n    A. Definition and purpose\\n    B. Key features and functionalities\\n    C. Use cases and applications\\n    D. Advantages and limitations\\n\\nIII. Langsmith\\n    A. Definition and purpose\\n    B. Key features and functionalities\\n    C. Use cases and applications\\n    D. Advantages and limitations\\n\\nIV. Comparison between Langchain and Langsmith\\n    A. Technology stack and architecture\\n    B. Scalability and performance\\n    C. Security and privacy considerations\\n    D. Adoption and popularity in the industry\\n\\nV. Conclusion\\n    A. Recap of the main differences between Langchain and Langsmith\\n    B. Implications for future developments in the field\\n    C. Final thoughts on the significance of understanding these technologies.'}}\n",
      "{'research_plan': {'content': [\"This was such an important unlock for us as we build in tactical functionality to our AI.\\nAdvice for Product Teams Considering LangSmith\\nWhen you're in the thick of product development, the whirlwind of AI and LLMs can be overwhelming. ou can now clearly see the citations coming through with the responses in the traces, and we’re good to ship the changes to the prompt to prod.\\n We do this primarily to legitimize the LLMs response and give our HelpHub customer’s peace of mind that their end users are in fact getting to the help resource they need (instead of an LLM just hallucinating and giving any response it wants.)\\n Take it from us, as we integrated AI more heavily and widely across our products, we’ve been more conscious than ever that the quality of the outputs matches the quality and trust that our customers have in our product. We updated our prompt to be more firm when asking for the sources:\\nWe then tested everything using LangSmith evals, to make sure that it fixes the issue before pushing to production.\\n\", \"LangSmith Cookbook: Real-world Lang Smith Examples\\nThe LangSmith Cookbook is not just a compilation of code snippets; it's a goldmine of hands-on examples designed to inspire and assist you in your projects. On This Page\\nLangSmith: Best Way to Test LLMs and AI Application\\nPublished on 12/17/2023\\nIf you're in the world of Language Learning Models (LLMs), you've probably heard of LangSmith. How to Download Feedback and Examples (opens in a new tab): Export predictions, evaluation results, and other information to add to your reports programmatically.\\n This article is your one-stop guide to understanding LangSmith, a platform that offers a plethora of features for debugging, testing, evaluating, and monitoring LLM applications.\\n How do I get access to LangSmith?\\nTo get access to LangSmith, you'll need to sign up for an account on their website.\", \"LangSmith Cookbook: Real-world Lang Smith Examples\\nThe LangSmith Cookbook is not just a compilation of code snippets; it's a goldmine of hands-on examples designed to inspire and assist you in your projects. On This Page\\nLangSmith: Best Way to Test LLMs and AI Application\\nPublished on 12/17/2023\\nIf you're in the world of Language Learning Models (LLMs), you've probably heard of LangSmith. How to Download Feedback and Examples (opens in a new tab): Export predictions, evaluation results, and other information to add to your reports programmatically.\\n This article is your one-stop guide to understanding LangSmith, a platform that offers a plethora of features for debugging, testing, evaluating, and monitoring LLM applications.\\n How do I get access to LangSmith?\\nTo get access to LangSmith, you'll need to sign up for an account on their website.\", \"This was such an important unlock for us as we build in tactical functionality to our AI.\\nAdvice for Product Teams Considering LangSmith\\nWhen you're in the thick of product development, the whirlwind of AI and LLMs can be overwhelming. ou can now clearly see the citations coming through with the responses in the traces, and we’re good to ship the changes to the prompt to prod.\\n We do this primarily to legitimize the LLMs response and give our HelpHub customer’s peace of mind that their end users are in fact getting to the help resource they need (instead of an LLM just hallucinating and giving any response it wants.)\\n Take it from us, as we integrated AI more heavily and widely across our products, we’ve been more conscious than ever that the quality of the outputs matches the quality and trust that our customers have in our product. We updated our prompt to be more firm when asking for the sources:\\nWe then tested everything using LangSmith evals, to make sure that it fixes the issue before pushing to production.\\n\", 'Reviewing the Results\\nThe comparison views also make it easy to manually review the outputs to get a better sense for how the models behave, so you can make adjustments to your cognitive architecture and update the evaluation techniques to address any failure modes you identify.\\n Both say that they cannot see an explicit answer to the question (since the retriever is the same), but the assistant is willing to provide context on how strict is used in other contexts as a pointer for the user.\\n If you are using a model like gpt-3.5 and getting hallucinations like this, you can try adding an additional system prompt reminding the model to only respond based on the retrieved content, and you can work to improve the retriever to filter out irrelevant documents.\\n If you compare the outputs, you can see that mistral was influenced too much by the document content and mentioned the class from the docs rather than the direct answer.\\n As a part of the initial release, we have evaluated various implementations that differ across a few dimensions:\\nYou can check out the link above to review the results or continue with the information below!\\n', 'LangSmith supports a powerful comparison view that lets you hone in on key differences, regressions, and improvements between different experiments. Open the comparison view To open the comparison view, select two or more experiments from the \"Experiments\" tab from a given dataset page. Then, click on the \"Compare\" button at the bottom of the page.']}}\n",
      "{'generate': {'draft': '**Title: A Comparative Analysis of Langchain and LangSmith**\\n\\nI. Introduction\\nIn the realm of language technologies, Langchain and LangSmith stand out as prominent platforms with distinct features and functionalities. While both cater to the needs of language processing, they differ significantly in their approaches and applications. This essay delves into the disparities between Langchain and LangSmith, shedding light on their unique characteristics and implications.\\n\\nII. Langchain\\nLangchain is a cutting-edge language technology platform designed to revolutionize the way languages are processed and analyzed. With a focus on blockchain integration, Langchain offers secure and transparent language solutions. Its key features include immutable language records, decentralized language processing, and smart contract language interactions. Langchain finds applications in secure document verification, transparent language transactions, and decentralized language learning. Despite its innovative approach, Langchain faces limitations in scalability due to blockchain constraints.\\n\\nIII. LangSmith\\nIn contrast, LangSmith is a versatile platform tailored for debugging, testing, and monitoring Language Learning Models (LLMs). It provides a comprehensive set of tools for evaluating and improving LLM applications. Key features of LangSmith include real-time model testing, debugging capabilities, and performance monitoring. LangSmith is widely used in the AI industry for enhancing the accuracy and reliability of language models. However, its focus on LLM applications limits its scope compared to broader language processing platforms.\\n\\nIV. Comparison between Langchain and LangSmith\\nA. Technology stack and architecture: Langchain integrates blockchain technology, ensuring secure and transparent language operations, while LangSmith focuses on AI-driven language model evaluation and testing.\\nB. Scalability and performance: Langchain may face scalability issues due to the inherent nature of blockchain, whereas LangSmith excels in performance optimization for LLM applications.\\nC. Security and privacy considerations: Langchain prioritizes data security through blockchain encryption, whereas LangSmith emphasizes model accuracy and reliability in language processing.\\nD. Adoption and popularity in the industry: Langchain is gaining traction in sectors requiring secure language transactions, while LangSmith is widely adopted in AI research and development circles.\\n\\nV. Conclusion\\nIn conclusion, the disparities between Langchain and LangSmith underscore the diverse landscape of language technologies. Understanding the unique features and limitations of each platform is crucial for making informed decisions in adopting language solutions. As technology continues to evolve, the significance of platforms like Langchain and LangSmith in shaping the future of language processing cannot be understated. By recognizing their distinct roles and functionalities, stakeholders can leverage these platforms effectively for enhanced language operations.', 'revision_number': 2}}\n",
      "{'reflect': {'critique': \"Overall, your essay provides a clear and structured comparative analysis of Langchain and LangSmith, highlighting their key features, applications, and limitations. Here are some suggestions to enhance your submission:\\n\\n1. **Depth and Detail**: While you have covered the basic information about Langchain and LangSmith, consider delving deeper into specific examples, case studies, or user experiences to provide a more comprehensive understanding of how these platforms are utilized in real-world scenarios. Providing more detailed explanations and examples can help strengthen your analysis.\\n\\n2. **Critical Analysis**: It would be beneficial to include a more critical analysis of the strengths and weaknesses of each platform. For instance, you could discuss potential challenges faced by Langchain in terms of scalability and how LangSmith addresses these issues. By critically evaluating the platforms, you can offer a more nuanced perspective on their effectiveness and limitations.\\n\\n3. **Expansion on Implications**: Consider expanding on the implications of the differences between Langchain and LangSmith. How do these differences impact industries that rely on language technologies? What are the potential future developments or trends in language processing that these platforms might influence? Providing insights into the broader implications can add depth to your analysis.\\n\\n4. **Formatting and Structure**: Ensure that your essay flows smoothly from one section to the next. Consider using subheadings within the comparison section to clearly outline the different aspects being compared. This will help readers navigate through your analysis more easily.\\n\\n5. **Recommendations**: It would be beneficial to include recommendations for potential users or stakeholders who are considering adopting either Langchain or LangSmith. Providing guidance on which platform might be more suitable for specific use cases or industries can add practical value to your analysis.\\n\\n6. **Length**: While your essay is concise and to the point, expanding on each platform's features, applications, and limitations could provide a more comprehensive analysis. Aim to provide more detailed explanations and examples to enrich your discussion.\\n\\nBy incorporating these suggestions, you can further enhance the depth and clarity of your comparative analysis of Langchain and LangSmith. Keep refining your analysis by incorporating real-world examples, critical insights, and practical recommendations to make your essay more informative and engaging.\"}}\n",
      "{'research_critique': {'content': [\"This was such an important unlock for us as we build in tactical functionality to our AI.\\nAdvice for Product Teams Considering LangSmith\\nWhen you're in the thick of product development, the whirlwind of AI and LLMs can be overwhelming. ou can now clearly see the citations coming through with the responses in the traces, and we’re good to ship the changes to the prompt to prod.\\n We do this primarily to legitimize the LLMs response and give our HelpHub customer’s peace of mind that their end users are in fact getting to the help resource they need (instead of an LLM just hallucinating and giving any response it wants.)\\n Take it from us, as we integrated AI more heavily and widely across our products, we’ve been more conscious than ever that the quality of the outputs matches the quality and trust that our customers have in our product. We updated our prompt to be more firm when asking for the sources:\\nWe then tested everything using LangSmith evals, to make sure that it fixes the issue before pushing to production.\\n\", \"LangSmith Cookbook: Real-world Lang Smith Examples\\nThe LangSmith Cookbook is not just a compilation of code snippets; it's a goldmine of hands-on examples designed to inspire and assist you in your projects. On This Page\\nLangSmith: Best Way to Test LLMs and AI Application\\nPublished on 12/17/2023\\nIf you're in the world of Language Learning Models (LLMs), you've probably heard of LangSmith. How to Download Feedback and Examples (opens in a new tab): Export predictions, evaluation results, and other information to add to your reports programmatically.\\n This article is your one-stop guide to understanding LangSmith, a platform that offers a plethora of features for debugging, testing, evaluating, and monitoring LLM applications.\\n How do I get access to LangSmith?\\nTo get access to LangSmith, you'll need to sign up for an account on their website.\", \"LangSmith Cookbook: Real-world Lang Smith Examples\\nThe LangSmith Cookbook is not just a compilation of code snippets; it's a goldmine of hands-on examples designed to inspire and assist you in your projects. On This Page\\nLangSmith: Best Way to Test LLMs and AI Application\\nPublished on 12/17/2023\\nIf you're in the world of Language Learning Models (LLMs), you've probably heard of LangSmith. How to Download Feedback and Examples (opens in a new tab): Export predictions, evaluation results, and other information to add to your reports programmatically.\\n This article is your one-stop guide to understanding LangSmith, a platform that offers a plethora of features for debugging, testing, evaluating, and monitoring LLM applications.\\n How do I get access to LangSmith?\\nTo get access to LangSmith, you'll need to sign up for an account on their website.\", \"This was such an important unlock for us as we build in tactical functionality to our AI.\\nAdvice for Product Teams Considering LangSmith\\nWhen you're in the thick of product development, the whirlwind of AI and LLMs can be overwhelming. ou can now clearly see the citations coming through with the responses in the traces, and we’re good to ship the changes to the prompt to prod.\\n We do this primarily to legitimize the LLMs response and give our HelpHub customer’s peace of mind that their end users are in fact getting to the help resource they need (instead of an LLM just hallucinating and giving any response it wants.)\\n Take it from us, as we integrated AI more heavily and widely across our products, we’ve been more conscious than ever that the quality of the outputs matches the quality and trust that our customers have in our product. We updated our prompt to be more firm when asking for the sources:\\nWe then tested everything using LangSmith evals, to make sure that it fixes the issue before pushing to production.\\n\", 'Reviewing the Results\\nThe comparison views also make it easy to manually review the outputs to get a better sense for how the models behave, so you can make adjustments to your cognitive architecture and update the evaluation techniques to address any failure modes you identify.\\n Both say that they cannot see an explicit answer to the question (since the retriever is the same), but the assistant is willing to provide context on how strict is used in other contexts as a pointer for the user.\\n If you are using a model like gpt-3.5 and getting hallucinations like this, you can try adding an additional system prompt reminding the model to only respond based on the retrieved content, and you can work to improve the retriever to filter out irrelevant documents.\\n If you compare the outputs, you can see that mistral was influenced too much by the document content and mentioned the class from the docs rather than the direct answer.\\n As a part of the initial release, we have evaluated various implementations that differ across a few dimensions:\\nYou can check out the link above to review the results or continue with the information below!\\n', 'LangSmith supports a powerful comparison view that lets you hone in on key differences, regressions, and improvements between different experiments. Open the comparison view To open the comparison view, select two or more experiments from the \"Experiments\" tab from a given dataset page. Then, click on the \"Compare\" button at the bottom of the page.', 'Sign up\\nSign in\\nSign up\\nSign in\\nMember-only story\\nEnhancing Language Model Applications with LangChain: Practical Use Cases and Code Examples\\nThe Data Beast\\nFollow\\n--\\nShare\\nIntroduction to LangChain\\nLangChain is a framework designed to amplify the capabilities of language models. This framework is comprised of LangChain Libraries, LangChain Templates, LangServe, and LangSmith, offering a comprehensive suite of tools for developers working with language models\\u200b\\u200b.\\nCore Components of LangChain\\nLangChain Libraries\\nThese libraries provide modular, easy-to-use tools and integrations, simplifying the construction of complex chains for various tasks\\u200b\\u200b.\\nLangChain Expression Language (LCEL)\\nLCEL is a declarative language within LangChain, allowing for the seamless composition of chains from simple to complex tasks\\u200b\\u200b.\\nLangChain in Action: Real-World Examples\\n1. --\\n--\\nWritten by The Data Beast\\nHelp\\nStatus\\nAbout\\nCareers\\nBlog\\nPrivacy\\nTerms\\nText to speech\\nTeams Document Question Answering\\nLangChain can efficiently interface with a document database to extract and synthesize information in response to queries.\\n Analyzing Structured Data\\nLangChain is also adept at processing and extracting insights from structured data, such as financial reports or customer databases.\\n', 'Welcome to the LangSmith Cookbook — your practical guide to mastering LangSmith. While our standard documentation covers the basics, this repository delves into common patterns and some real-world use-cases, empowering you to optimize your LLM applications further. This repository is your practical guide to maximizing LangSmith.', 'Scalability Challenges: Scaling Langchain applications to handle high volumes of requests while maintaining performance is a complex task that requires ... not only facilitates the development of LLM applications but also ensures their adaptability and longevity in the face of evolving LLM technologies. Future Directions. Looking ahead, the ...', 'This limits the scalability and reusability of solutions built on these models, posing a significant hurdle for frameworks like LangChain. Moreover, developers need flexibility and transparency in ...', 'Once a prototype is ready, LangSmith’s integrated platform facilitates deployment via hosted LangServe, offering detailed insights into production dynamics, from cost and latency to anomalies and errors, thereby ensuring the delivery of high-quality, cost-efficient LLM applications.\\n Required fields are marked *\\nComment\\nName *\\nEmail *\\nWebsite\\nHave an awesome business idea?\\nTell us more about it.\\n LangSmith serves as a comprehensive platform, empowering developers to expedite the lifecycle of LLM projects, encompassing everything from initial development and testing phases to final deployment and ongoing monitoring. Initially launched in a limited beta in July of the previous year, LangSmith has rapidly become a critical tool for numerous enterprises, witnessing widespread adoption on a monthly basis, the company reports.\\n LangChain stands alongside other platforms like TruEra’s TruLens, W&B Prompts, and Arize’s Pheonix, which also contribute to the evaluation and monitoring of LLM applications.\\n', \"This was such an important unlock for us as we build in tactical functionality to our AI.\\nAdvice for Product Teams Considering LangSmith\\nWhen you're in the thick of product development, the whirlwind of AI and LLMs can be overwhelming. ou can now clearly see the citations coming through with the responses in the traces, and we’re good to ship the changes to the prompt to prod.\\n We do this primarily to legitimize the LLMs response and give our HelpHub customer’s peace of mind that their end users are in fact getting to the help resource they need (instead of an LLM just hallucinating and giving any response it wants.)\\n Take it from us, as we integrated AI more heavily and widely across our products, we’ve been more conscious than ever that the quality of the outputs matches the quality and trust that our customers have in our product. We updated our prompt to be more firm when asking for the sources:\\nWe then tested everything using LangSmith evals, to make sure that it fixes the issue before pushing to production.\\n\"]}}\n",
      "{'generate': {'draft': \"**Title: Exploring the Contrasts Between LangChain and LangSmith**\\n\\nI. Introduction\\nIn the realm of language models, LangChain and LangSmith stand out as prominent frameworks that offer unique functionalities and applications. Understanding the disparities between these two platforms is crucial for developers and product teams seeking to leverage their capabilities effectively.\\n\\nII. LangChain\\nLangChain is a comprehensive framework designed to enhance the capabilities of language models. It comprises LangChain Libraries, LangChain Templates, LangServe, and LangSmith, offering developers a suite of tools for building and deploying complex chains for various tasks. Its key features include the LangChain Expression Language (LCEL) for composing tasks seamlessly. LangChain excels in interfacing with document databases and analyzing structured data, making it a versatile tool for a range of applications.\\n\\nIII. LangSmith\\nOn the other hand, LangSmith serves as a platform focused on debugging, testing, evaluating, and monitoring Language Learning Models (LLMs). It provides developers with insights into the behavior of models, facilitating the identification of key differences, regressions, and improvements between experiments. LangSmith's comparison view and evaluation techniques enable developers to refine their models effectively.\\n\\nIV. Comparison between LangChain and LangSmith\\nA. Technology stack and architecture: LangChain emphasizes modular tools and integrations, while LangSmith focuses on debugging and monitoring LLM applications.\\nB. Scalability and performance: LangChain addresses scalability challenges in handling high volumes of requests, whereas LangSmith ensures the quality and efficiency of LLM applications.\\nC. Security and privacy considerations: Both platforms prioritize data security, but LangChain's focus on data extraction and synthesis may pose unique privacy challenges.\\nD. Adoption and popularity in the industry: LangSmith has gained traction for its debugging capabilities, while LangChain's versatility in processing structured data has garnered attention in various sectors.\\n\\nV. Conclusion\\nIn conclusion, the distinctions between LangChain and LangSmith underscore the diverse functionalities and applications within the realm of language models. As these technologies continue to evolve, understanding their unique strengths and limitations is essential for driving innovation and progress in the field of AI and LLMs. Embracing these differences can lead to more informed decision-making and impactful developments in the future of language model applications.\", 'revision_number': 3}}\n"
     ]
    }
   ],
   "source": [
    "thread = {\"configurable\": {\"thread_id\": \"1\"}}\n",
    "for s in graph.stream({\n",
    "    'task': \"what is the difference between langchain and langsmith\", \n",
    "    \"max_revisions\": 2,\n",
    "    \"revision_number\": 1\n",
    "}, thread):\n",
    "    print(s)"
   ]
  },
  {
   "cell_type": "code",
   "execution_count": null,
   "id": "02c0dde8-da92-4fde-9802-bd2b468319f6",
   "metadata": {},
   "outputs": [],
   "source": []
  }
 ],
 "metadata": {
  "kernelspec": {
   "display_name": "Python 3",
   "language": "python",
   "name": "python3"
  },
  "language_info": {
   "codemirror_mode": {
    "name": "ipython",
    "version": 3
   },
   "file_extension": ".py",
   "mimetype": "text/x-python",
   "name": "python",
   "nbconvert_exporter": "python",
   "pygments_lexer": "ipython3",
   "version": "3.10.13"
  }
 },
 "nbformat": 4,
 "nbformat_minor": 5
}
