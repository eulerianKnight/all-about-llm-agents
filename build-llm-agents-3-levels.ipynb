{
 "cells": [
  {
   "cell_type": "code",
   "execution_count": 6,
   "id": "209942c8-60ef-4147-8245-c6883ef19c3f",
   "metadata": {},
   "outputs": [],
   "source": [
    "import openai\n",
    "import os\n",
    "from getpass import getpass"
   ]
  },
  {
   "cell_type": "code",
   "execution_count": 7,
   "id": "ce335dee",
   "metadata": {},
   "outputs": [],
   "source": [
    "# Get OpenAI API Key\n",
    "OPENAI_API_KEY = getpass()"
   ]
  },
  {
   "cell_type": "code",
   "execution_count": 9,
   "id": "4223dfb2",
   "metadata": {},
   "outputs": [
    {
     "data": {
      "text/markdown": [
       "1. Check the system information:\n",
       "   Use the command \"uname -a\" to get detailed information about the kernel and operating system version.\n",
       "\n",
       "2. List all files in a specific directory:\n",
       "   Use \"ls\" command followed by the directory path to view the list of files and folders within a particular directory.\n",
       "\n",
       "3. Open a text file in a terminal-based text editor:\n",
       "   Use \"vi\" or \"nano\" command followed by the name of the file to open it in a terminal-based text editor. For example, \"nano myfile.txt\" will open \"myfile.txt\" in the Nano editor."
      ],
      "text/plain": [
       "<IPython.core.display.Markdown object>"
      ]
     },
     "execution_count": 9,
     "metadata": {},
     "output_type": "execute_result"
    }
   ],
   "source": [
    "# Sample test\n",
    "from openai import OpenAI\n",
    "from IPython.display import Markdown\n",
    "client = OpenAI(api_key=OPENAI_API_KEY)\n",
    "\n",
    "def get_response(prompt_question):\n",
    "    response = client.chat.completions.create(\n",
    "        model=\"gpt-3.5-turbo-16k\", \n",
    "        messages=[{\"role\": \"system\", \"content\": \"You are helpful research and programming assistant\"}, \n",
    "        {\"role\": \"user\", \"content\": prompt_question}]\n",
    "    )\n",
    "    return response.choices[0].message.content\n",
    "\n",
    "output = get_response(\"Create a simple task list of 3 desktop things i can do in the terminal.\")\n",
    "Markdown(output)"
   ]
  },
  {
   "cell_type": "code",
   "execution_count": 10,
   "id": "48ce01ea",
   "metadata": {},
   "outputs": [],
   "source": [
    "import subprocess\n",
    "\n",
    "def create_directory():\n",
    "    subprocess.run([\"mkdir\", \"test\"])\n",
    "\n",
    "def create_file():\n",
    "    subprocess.run([\"touch\", \"test.txt\"])\n",
    "\n",
    "def list_files():\n",
    "    subprocess.run([\"ls\"])"
   ]
  },
  {
   "cell_type": "code",
   "execution_count": 14,
   "id": "c7394e31",
   "metadata": {},
   "outputs": [
    {
     "data": {
      "text/markdown": [
       "create_directory('my-files')"
      ],
      "text/plain": [
       "<IPython.core.display.Markdown object>"
      ]
     },
     "execution_count": 14,
     "metadata": {},
     "output_type": "execute_result"
    }
   ],
   "source": [
    "class ModelWithTools:\n",
    "    def __init__(self, model):\n",
    "        self.model = model\n",
    "\n",
    "    def get_response(self, prompt_question):\n",
    "        response = client.chat.completions.create(\n",
    "            model=self.model, \n",
    "            messages=[{\"role\": \"system\", \"content\": \"You are a helpful research and programming assistant\"}, \n",
    "            {\"role\": \"user\", \"content\": prompt_question}]\n",
    "        )\n",
    "        return response.choices[0].message.content\n",
    "\n",
    "    def create_directory(self, directory_name):\n",
    "        subprocess.run([\"mkdir\", directory_name])\n",
    "\n",
    "    def create_file(self, file_name):\n",
    "        subprocess.run([\"touch\", file_name])\n",
    "\n",
    "    def list_files(self):\n",
    "        subprocess.run([\"ls\"])\n",
    "\n",
    "    def execute_function_call(self, function_call_string: str):\n",
    "        exec(function_call_string)\n",
    "\n",
    "model = ModelWithTools(\"gpt-3.5-turbo-16k\")\n",
    "task_description = \"Create a folder called 'my-files'. Inside the folder, create a file called 'llm-agents-nots.md'\"\n",
    "output = model.get_response(f\"\"\"Given this task: {task_description}, \\nConsider you have access to following functions:\n",
    "    def create_directory(self, directory_name):\n",
    "        '''Function that creates a directory given a directory name.'''\n",
    "        subprocess.run([\"mkdir\", directory_name])\n",
    "\n",
    "    def create_file(self, file_name):\n",
    "        '''Function that creates a file given a file name.'''\n",
    "        subprocess.run([\"touch\", file_name])\n",
    "\n",
    "    def list_files(self):\n",
    "        '''Function that lists all files in the current directory.'''\n",
    "        subprocess.run([\"ls\"])\n",
    "\n",
    "    Your output should be the first function to be executed to complete the task containing the necessary arguments.\n",
    "    For example:\n",
    "\n",
    "    task: 'create a folder named sample-folder'\n",
    "    output: model.create_directory('sample-folder')\n",
    "\n",
    "    task: 'create a file named sample-file.md'\n",
    "    output: model.create_file('sample-file.md')\n",
    "\n",
    "    The OUTPUT SHOULD ONLY BE THE PYTHON FUNCTION CALL and NOTHING ELSE.\n",
    "    task: {task_description}\n",
    "    output:\\n\n",
    "\"\"\")\n",
    "Markdown(output)"
   ]
  },
  {
   "cell_type": "code",
   "execution_count": 15,
   "id": "4bae4d6d",
   "metadata": {},
   "outputs": [],
   "source": [
    "exec(\"model.\" + output)"
   ]
  },
  {
   "cell_type": "code",
   "execution_count": null,
   "id": "c6e7820b",
   "metadata": {},
   "outputs": [],
   "source": [
    "model.executed"
   ]
  }
 ],
 "metadata": {
  "kernelspec": {
   "display_name": "Python 3",
   "language": "python",
   "name": "python3"
  },
  "language_info": {
   "codemirror_mode": {
    "name": "ipython",
    "version": 3
   },
   "file_extension": ".py",
   "mimetype": "text/x-python",
   "name": "python",
   "nbconvert_exporter": "python",
   "pygments_lexer": "ipython3",
   "version": "3.10.10"
  }
 },
 "nbformat": 4,
 "nbformat_minor": 5
}
